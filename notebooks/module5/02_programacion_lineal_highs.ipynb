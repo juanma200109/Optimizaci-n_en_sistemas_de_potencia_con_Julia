{
 "cells": [
  {
   "cell_type": "markdown",
   "id": "29da45c6",
   "metadata": {},
   "source": [
    "### 2. Programación Lineal con HiGHS\n",
    "\n",
    "La programación lineal es útil para problemas como el flujo DC, donde las ecuaciones son lineales.\n",
    "\n",
    "#### Ejemplo: Despacho Económico Simple\n",
    "\n",
    "Modelaremos un despacho económico para minimizar el costo de generación en un sistema con 3 nodos."
   ]
  },
  {
   "cell_type": "markdown",
   "id": "b2d5e0f8",
   "metadata": {},
   "source": [
    "### Función Objetivo\n",
    "Minimizar el costo total de generación:\n",
    "\n",
    "$$min \\sum_{i \\in \\mathcal{N}}{C_i \\cdot P_{G_i}}$$\n",
    "\n",
    "**Restricciónes**\n",
    "\n",
    "1. **Balance de potencia**: La generación total debe igualar la demanda total\n",
    "\n",
    "$$\\sum_{i \\in \\mathcal{N}} P_{G_i} = \\sum_{i \\in \\mathcal{N}} P_{D_i}$$\n",
    "\n",
    "2. **No negatividad**: Potencia generada no puede ser negativa\n",
    "\n",
    "$$P_{G_i} >= 0; \\forall i \\in \\mathcal{N}$$\n",
    "\n",
    "3. **Límites de generación**: Ya implícitos en la definición de la variable\n",
    "\n",
    "$$P_{G_i}^{min} \\leq P_{G_i} \\leq P_{G_i}^{max}; \\forall i \\in \\mathcal{N}$$\n",
    "\n",
    "**Nodos de Generación**\n",
    "\n",
    "$$\\mathcal{N} = {1, 2, 3}$$\n"
   ]
  },
  {
   "cell_type": "code",
   "execution_count": 2,
   "id": "9ded4161",
   "metadata": {},
   "outputs": [
    {
     "name": "stdout",
     "output_type": "stream",
     "text": [
      "Costo óptimo: 2200.0\n",
      "Generación: [100.0, 80.0, -0.0]\n"
     ]
    }
   ],
   "source": [
    "using JuMP\n",
    "using HiGHS\n",
    "using DataFrames\n",
    "\n",
    "# Datos\n",
    "nodes = DataFrame(\n",
    "    Nodo = [1, 2, 3],\n",
    "    PGEN = [100.0, 150.0, 200.0],  # Límite de generación\n",
    "    PLOAD = [50.0, 60.0, 70.0],   # Carga\n",
    "    COSTO = [10.0, 15.0, 20.0]    # Costo por MW\n",
    ")\n",
    "\n",
    "num_n = nrow(nodes)\n",
    "\n",
    "\n",
    "# Definición del modelo\n",
    "modelo = Model(HiGHS.Optimizer)\n",
    "set_optimizer_attribute(modelo, \"output_flag\", false)  # Suprime la salida de HiGHS\n",
    "\n",
    "# Variables de decisión (@variable(modelo, nombre_variable))\n",
    "@variable(modelo, PGEN[i = 1:num_n] <= nodes.PGEN[i])  # Potencias generadas\n",
    "\n",
    "# Función objetivo: minimizar el costo total de generación (@objective(modelo, sentido, expresión_objetivo))\n",
    "@objective(modelo, Min, sum(nodes.COSTO .* PGEN))\n",
    "\n",
    "# Restricciones de balance de potencia (@constraint(modelo, nombre_restriccion, expresión_de_la_restricción))\n",
    "@constraint(modelo, balance, sum(PGEN) == sum(nodes.PLOAD))\n",
    "@constraint(modelo, limite, PGEN .>= 0.0)  # Generación no negativa\n",
    "\n",
    "# Resolver el modelo\n",
    "optimize!(modelo)\n",
    "\n",
    "# Obtener resultados\n",
    "println(\"Costo óptimo: \", objective_value(modelo))\n",
    "println(\"Generación: \", value.(PGEN))"
   ]
  }
 ],
 "metadata": {
  "kernelspec": {
   "display_name": "Julia 1.11.3",
   "language": "julia",
   "name": "julia-1.11"
  },
  "language_info": {
   "file_extension": ".jl",
   "mimetype": "application/julia",
   "name": "julia",
   "version": "1.11.3"
  }
 },
 "nbformat": 4,
 "nbformat_minor": 5
}
