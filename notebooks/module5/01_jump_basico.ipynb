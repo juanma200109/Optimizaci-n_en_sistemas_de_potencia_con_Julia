{
 "cells": [
  {
   "cell_type": "markdown",
   "id": "56a195f8",
   "metadata": {},
   "source": [
    "# **Módulo 5: Optimización con JuMP**\n",
    "\n",
    "**Objetivo:** Modelar y resolver problemas de optimización lineal y no lineal utilizando `JuMP`, con aplicaciones en sistemas de potencia.\n",
    "\n",
    "---\n",
    "\n",
    "### 1. Introducción a JuMP\n",
    "\n",
    "`JuMP` es un paquete de Julia para modelado matemático que permite formular problemas de optimización de manera intuitiva. Es ideal para sistemas de potencia, ya que soporta programación lineal (con solvers como `HiGHS`) y no lineal (con solvers como `Ipopt`).\n",
    "\n",
    "#### Instalación de Paquetes\n",
    "\n",
    "Si no los tienes instalados, ejecuta:\n",
    "~~~julia\n",
    "using Pkg\n",
    "Pkg.add(\"JuMP\")\n",
    "Pkg.add(\"HiGHS\")\n",
    "Pkg.add(\"Ipopt\")\n",
    "~~~"
   ]
  },
  {
   "cell_type": "markdown",
   "id": "caa81bb4",
   "metadata": {},
   "source": [
    "#### **Componentes de un Modelo en JuMP**\n",
    "\n",
    "Modelo: Estructura fundamental que actúa como contenedor jerárquico para variables, restricciones y la función objetivo.\n",
    "\n",
    "* Variables: Representan las incógnitas (e.g., potencias generadas), algunos tipos son continuas, enteras o binarias.\n",
    "* Restricciones: Definen las limitaciones del sistema (e.g., balance de potencia), pueden ser lineales o no lineales.\n",
    "* Objetivo: Función a minimizar o maximizar (e.g., costo de generación), puede ser una expresión matemática a minimizar o maximizar.\n",
    "* Solver: Algoritmo que resuelve el problema (e.g., HiGHS para lineal, Ipopt para no lineal).\n",
    "\n",
    "---"
   ]
  }
 ],
 "metadata": {
  "kernelspec": {
   "display_name": "Julia 1.11.3",
   "language": "julia",
   "name": "julia-1.11"
  },
  "language_info": {
   "file_extension": ".jl",
   "mimetype": "application/julia",
   "name": "julia",
   "version": "1.11.3"
  }
 },
 "nbformat": 4,
 "nbformat_minor": 5
}
