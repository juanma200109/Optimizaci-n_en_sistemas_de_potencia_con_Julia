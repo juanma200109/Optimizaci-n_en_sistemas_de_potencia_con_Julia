{
 "cells": [
  {
   "cell_type": "markdown",
   "id": "68c7afd6",
   "metadata": {},
   "source": [
    "# **Módulo 3: Visualización con Plots**\n",
    "\n",
    "**Objetivo**: Crear gráficos para analizar y visualizar datos de sistemas de potencia utilizando el paquete `Plots` en Julia.\n",
    "\n",
    "---\n",
    "\n",
    "### 1. Introducción a Plots\n",
    "\n",
    "`Plots` es un paquete poderoso y flexible en Julia para generar visualizaciones. Soporta múltiples tipos de gráficos y permite personalizarlos fácilmente, lo cual es útil para representar datos de sistemas de potencia, como la generación por nodo, los flujos en líneas o los costos de operación.\n",
    "\n",
    "#### **Instalación de Plots**\n",
    "\n",
    "Si aún no tienes instalado el paquete, ejecuta:\n",
    "\n",
    "~~~julia\n",
    "using Pkg\n",
    "Pkg.add(\"Plots\")\n",
    "~~~\n",
    "\n",
    "#### **Configuración Básica**\n",
    "\n",
    "Para usar Plots, simplemente importa el paquete:"
   ]
  },
  {
   "cell_type": "code",
   "execution_count": 3,
   "id": "eee16b23",
   "metadata": {},
   "outputs": [],
   "source": [
    "using Plots"
   ]
  },
  {
   "cell_type": "markdown",
   "id": "4edfe070",
   "metadata": {},
   "source": [
    "Por defecto, Plots usa un backend como GR (rápido y ligero). Si deseas cambiar el backend (por ejemplo, a Plotly para gráficos interactivos), puedes hacerlo:\n",
    "\n",
    "~~~julia\n",
    "plotly()  # Cambia al backend Plotly\n",
    "~~~"
   ]
  }
 ],
 "metadata": {
  "kernelspec": {
   "display_name": "Julia 1.11.3",
   "language": "julia",
   "name": "julia-1.11"
  },
  "language_info": {
   "file_extension": ".jl",
   "mimetype": "application/julia",
   "name": "julia",
   "version": "1.11.3"
  }
 },
 "nbformat": 4,
 "nbformat_minor": 5
}
