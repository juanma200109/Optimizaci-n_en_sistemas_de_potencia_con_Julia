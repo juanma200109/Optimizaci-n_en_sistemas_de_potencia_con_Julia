{
 "cells": [
  {
   "cell_type": "markdown",
   "id": "b3e08ae9",
   "metadata": {},
   "source": [
    "### 3. Factorizaciones y Eigenvalores\n",
    "\n",
    "#### Factorizaciones\n",
    "\n",
    "Las factorizaciones descomponen matrices para resolver problemas más eficientemente.\n",
    "\n",
    "* LU:"
   ]
  },
  {
   "cell_type": "code",
   "execution_count": 1,
   "id": "044a7586",
   "metadata": {},
   "outputs": [
    {
     "data": {
      "text/plain": [
       "LU{Float64, Matrix{Float64}, Vector{Int64}}\n",
       "L factor:\n",
       "2×2 Matrix{Float64}:\n",
       " 1.0  0.0\n",
       " 0.5  1.0\n",
       "U factor:\n",
       "2×2 Matrix{Float64}:\n",
       " 2.0  1.0\n",
       " 0.0  2.5"
      ]
     },
     "metadata": {},
     "output_type": "display_data"
    }
   ],
   "source": [
    "using LinearAlgebra\n",
    "A = [2.0 1.0; 1.0 3.0]\n",
    "lu_A = lu(A)"
   ]
  },
  {
   "cell_type": "markdown",
   "id": "3c423cea",
   "metadata": {},
   "source": [
    "#### ¿Qué es la Descomposición LU?\n",
    "\n",
    "La descomposición LU descompone una matriz cuadrada A en tres componentes:\n",
    "\n",
    "* L: Matriz triangular inferior (con unos en la diagonal).\n",
    "* U: Matriz triangular superior.\n",
    "* P: Matriz de permutación (para evitar divisiones por cero durante la descomposición).\n",
    "\n",
    "La relación es:\n",
    "\n",
    "$$PA=LU$$\n"
   ]
  },
  {
   "cell_type": "code",
   "execution_count": 2,
   "id": "0752a22c",
   "metadata": {},
   "outputs": [
    {
     "data": {
      "text/plain": [
       "2×2 Matrix{Float64}:\n",
       " 1.0  2.0\n",
       " 3.0  4.0"
      ]
     },
     "metadata": {},
     "output_type": "display_data"
    }
   ],
   "source": [
    "# Define una matriz A\n",
    "A = [1 2; 3 4]\n",
    "\n",
    "# Realiza la descomposición LU\n",
    "F = lu(A)\n",
    "\n",
    "# Accede a los componentes\n",
    "L = F.L    # Matriz triangular inferior\n",
    "U = F.U    # Matriz triangular superior\n",
    "P = F.P    # Vector de permutación (equivale a P*A = L*U)\n",
    "\n",
    "# Reconstructura A usando P, L, U\n",
    "A_reconstructed = P' * L * U  # P' es la transpuesta de P"
   ]
  },
  {
   "cell_type": "markdown",
   "id": "11117e4b",
   "metadata": {},
   "source": [
    "* Cholesky (para matrices simétricas definidas positivas):"
   ]
  },
  {
   "cell_type": "code",
   "execution_count": 3,
   "id": "2a63cb2e",
   "metadata": {},
   "outputs": [
    {
     "data": {
      "text/plain": [
       "Cholesky{Float64, Matrix{Float64}}\n",
       "U factor:\n",
       "2×2 UpperTriangular{Float64, Matrix{Float64}}:\n",
       " 3.16228  4.42719\n",
       "  ⋅       0.632456"
      ]
     },
     "metadata": {},
     "output_type": "display_data"
    }
   ],
   "source": [
    "chol_A = cholesky(A' * A)"
   ]
  },
  {
   "cell_type": "markdown",
   "id": "bb1e90fa",
   "metadata": {},
   "source": [
    "#### Eigenvalores y Eigenvectores\n",
    "\n",
    "Los eigenvalores son útiles para analizar estabilidad en sistemas de potencia."
   ]
  },
  {
   "cell_type": "code",
   "execution_count": 4,
   "id": "209bf6af",
   "metadata": {},
   "outputs": [
    {
     "name": "stdout",
     "output_type": "stream",
     "text": [
      "Eigenvalores: [-0.3722813232690143, 5.372281323269014]\n",
      "Eigenvectores: [-0.8245648401323938 -0.4159735579192842; 0.5657674649689923 -0.9093767091321241]\n"
     ]
    }
   ],
   "source": [
    "A = [1.0 2.0; 3.0 4.0]\n",
    "evals = eigvals(A)\n",
    "evecs = eigvecs(A)\n",
    "println(\"Eigenvalores: \", evals)\n",
    "println(\"Eigenvectores: \", evecs)"
   ]
  },
  {
   "cell_type": "markdown",
   "id": "5ab6b84e",
   "metadata": {},
   "source": [
    "### 4. Aplicaciones en Sistemas de Potencia\n",
    "\n",
    "En sistemas de potencia, el álgebra lineal se usa para:\n",
    "\n",
    "* Matriz de Incidencia: Representa la conexión entre nodos y líneas.\n",
    "\n",
    "* Matriz de Admitancia (Y-bus): Relaciona corrientes y voltajes.\n",
    "\n",
    "* Flujo DC: Resuelve sistemas lineales basados en ángulos nodales y flujos.\n",
    "\n",
    "Ejemplo: Construcción de Matriz de Incidencia"
   ]
  },
  {
   "cell_type": "code",
   "execution_count": 8,
   "id": "bccbc3d9",
   "metadata": {},
   "outputs": [
    {
     "data": {
      "text/plain": [
       "3×3 Matrix{Float64}:\n",
       "  1.0   0.0  0.0\n",
       " -1.0   1.0  0.0\n",
       "  0.0  -1.0  0.0"
      ]
     },
     "metadata": {},
     "output_type": "display_data"
    }
   ],
   "source": [
    "using DataFrames\n",
    "\n",
    "num_n = 3  # Número de nodos\n",
    "num_l = 2  # Número de líneas\n",
    "lines = DataFrame(FROM=[1, 2], TO=[2, 3])\n",
    "A = zeros(num_n, num_n)  # Matriz de incidencia\n",
    "for i in 1:num_l\n",
    "    k = lines.FROM[i]\n",
    "    m = lines.TO[i]\n",
    "    A[k, i] = 1\n",
    "    A[m, i] = -1\n",
    "end\n",
    "\n",
    "display(A)\n",
    "# Output:\n",
    "# [1.0  0.0\n",
    "#  -1.0 1.0\n",
    "#  0.0 -1.0]"
   ]
  }
 ],
 "metadata": {
  "kernelspec": {
   "display_name": "Julia 1.11.3",
   "language": "julia",
   "name": "julia-1.11"
  },
  "language_info": {
   "file_extension": ".jl",
   "mimetype": "application/julia",
   "name": "julia",
   "version": "1.11.3"
  }
 },
 "nbformat": 4,
 "nbformat_minor": 5
}
