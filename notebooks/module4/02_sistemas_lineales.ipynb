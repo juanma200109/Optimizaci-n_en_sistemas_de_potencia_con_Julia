{
 "cells": [
  {
   "cell_type": "markdown",
   "id": "eead29b0",
   "metadata": {},
   "source": [
    "### 2. Resolución de Sistemas Lineales\n",
    "\n",
    "Los sistemas lineales son comunes en sistemas de potencia, por ejemplo, para resolver balances de potencia o flujos DC.\n",
    "\n",
    "#### Forma General\n",
    "\n",
    "Dado un sistema ( Ax = b ), donde ( A ) es una matriz, ( x ) es el vector de incógnitas y ( b ) es el vector de términos independientes, puedes resolverlo con el operador `\\`:"
   ]
  },
  {
   "cell_type": "code",
   "execution_count": 5,
   "id": "66d9a156",
   "metadata": {},
   "outputs": [
    {
     "data": {
      "text/plain": [
       "2-element Vector{Float64}:\n",
       " 2.2\n",
       " 0.6"
      ]
     },
     "metadata": {},
     "output_type": "display_data"
    }
   ],
   "source": [
    "using LinearAlgebra\n",
    "# Ejemplo de resolución de un sistema de ecuaciones lineales Ax = b\n",
    "A = [2.0 1.0; 1.0 3.0]\n",
    "b = [5.0, 4.0]\n",
    "x = A \\ b"
   ]
  },
  {
   "cell_type": "markdown",
   "id": "5fb52619",
   "metadata": {},
   "source": [
    "#### Verificación\n",
    "\n",
    "Para confirmar que la solución es correcta:"
   ]
  },
  {
   "cell_type": "code",
   "execution_count": 4,
   "id": "2f5aa56f",
   "metadata": {},
   "outputs": [
    {
     "data": {
      "text/plain": [
       "0.0"
      ]
     },
     "metadata": {},
     "output_type": "display_data"
    }
   ],
   "source": [
    "norm(A * x - b)  # Debería ser cercano a 0"
   ]
  },
  {
   "cell_type": "markdown",
   "id": "790602c4",
   "metadata": {},
   "source": [
    "Ejemplo en Sistemas de Potencia:Supongamos que tienes un sistema de 2 nodos con una matriz de admitancia simplificada:"
   ]
  },
  {
   "cell_type": "code",
   "execution_count": 6,
   "id": "0b56e86c",
   "metadata": {},
   "outputs": [
    {
     "name": "stdout",
     "output_type": "stream",
     "text": [
      "[1.2, 1.4000000000000001]\n"
     ]
    }
   ],
   "source": [
    "Y = [2.0 -1.0; -1.0 3.0]  # Matriz de admitancia\n",
    "V = [1.0, 0.8]             # Voltajes\n",
    "I = Y * V                  # Corrientes\n",
    "println(I)\n",
    "# Output: [1.2, 1.4]"
   ]
  }
 ],
 "metadata": {
  "kernelspec": {
   "display_name": "Julia 1.11.3",
   "language": "julia",
   "name": "julia-1.11"
  },
  "language_info": {
   "file_extension": ".jl",
   "mimetype": "application/julia",
   "name": "julia",
   "version": "1.11.3"
  }
 },
 "nbformat": 4,
 "nbformat_minor": 5
}
