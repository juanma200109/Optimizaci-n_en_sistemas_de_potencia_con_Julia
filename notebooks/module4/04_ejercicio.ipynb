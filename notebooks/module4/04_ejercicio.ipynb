{
 "cells": [
  {
   "cell_type": "markdown",
   "id": "b9201f4b",
   "metadata": {},
   "source": [
    "#### **Ejercicio Práctico**\n",
    "\n",
    "**Objetivo:** Aplicar álgebra lineal en un problema de sistemas de potencia.\n",
    "\n",
    "Tarea:\n",
    "\n",
    "* Crea una matriz de incidencia para un sistema con 4 nodos y 3 líneas (`FROM: [1, 2, 3], TO: [2, 3, 4]`).\n",
    "* Crea un vector de flujos de potencia en las líneas: `[50.0, 60.0, 70.0]`.\n",
    "* Calcula el balance neto de potencia en cada nodo usando la matriz de incidencia y el vector de flujos.\n",
    "\n",
    "Resuelve un sistema lineal simple para encontrar los ángulos nodales (( \\theta )) suponiendo una matriz de susceptancia diagonal ( `B = [2.0, 2.0, 2.0, 2.0]` ) y un vector de inyecciones de potencia `[100.0, -50.0, -30.0, -20.0]`."
   ]
  },
  {
   "cell_type": "code",
   "execution_count": 2,
   "id": "eae39aa8",
   "metadata": {},
   "outputs": [
    {
     "data": {
      "text/html": [
       "<div><div style = \"float: left;\"><span>3×2 DataFrame</span></div><div style = \"clear: both;\"></div></div><div class = \"data-frame\" style = \"overflow-x: scroll;\"><table class = \"data-frame\" style = \"margin-bottom: 6px;\"><thead><tr class = \"header\"><th class = \"rowNumber\" style = \"font-weight: bold; text-align: right;\">Row</th><th style = \"text-align: left;\">FROM</th><th style = \"text-align: left;\">TO</th></tr><tr class = \"subheader headerLastRow\"><th class = \"rowNumber\" style = \"font-weight: bold; text-align: right;\"></th><th title = \"Int64\" style = \"text-align: left;\">Int64</th><th title = \"Int64\" style = \"text-align: left;\">Int64</th></tr></thead><tbody><tr><td class = \"rowNumber\" style = \"font-weight: bold; text-align: right;\">1</td><td style = \"text-align: right;\">1</td><td style = \"text-align: right;\">2</td></tr><tr><td class = \"rowNumber\" style = \"font-weight: bold; text-align: right;\">2</td><td style = \"text-align: right;\">2</td><td style = \"text-align: right;\">3</td></tr><tr><td class = \"rowNumber\" style = \"font-weight: bold; text-align: right;\">3</td><td style = \"text-align: right;\">3</td><td style = \"text-align: right;\">4</td></tr></tbody></table></div>"
      ],
      "text/latex": [
       "\\begin{tabular}{r|cc}\n",
       "\t& FROM & TO\\\\\n",
       "\t\\hline\n",
       "\t& Int64 & Int64\\\\\n",
       "\t\\hline\n",
       "\t1 & 1 & 2 \\\\\n",
       "\t2 & 2 & 3 \\\\\n",
       "\t3 & 3 & 4 \\\\\n",
       "\\end{tabular}\n"
      ],
      "text/plain": [
       "\u001b[1m3×2 DataFrame\u001b[0m\n",
       "\u001b[1m Row \u001b[0m│\u001b[1m FROM  \u001b[0m\u001b[1m TO    \u001b[0m\n",
       "     │\u001b[90m Int64 \u001b[0m\u001b[90m Int64 \u001b[0m\n",
       "─────┼──────────────\n",
       "   1 │     1      2\n",
       "   2 │     2      3\n",
       "   3 │     3      4"
      ]
     },
     "metadata": {},
     "output_type": "display_data"
    }
   ],
   "source": [
    "using DataFrames\n",
    "using LinearAlgebra\n",
    "\n",
    "# Create el DataFrame con los datos de ejemplo (FROM y TO)\n",
    "lines = DataFrame(FROM = [1, 2, 3], TO = [2, 3, 4])\n",
    "nodes = DataFrame(node = [1,2,3,4])\n",
    "display(lines)"
   ]
  },
  {
   "cell_type": "code",
   "execution_count": 3,
   "id": "c8328d5b",
   "metadata": {},
   "outputs": [
    {
     "data": {
      "text/plain": [
       "4×3 Matrix{Int64}:\n",
       "  1   0   0\n",
       " -1   1   0\n",
       "  0  -1   1\n",
       "  0   0  -1"
      ]
     },
     "metadata": {},
     "output_type": "display_data"
    }
   ],
   "source": [
    "# 1. Creando la matriz de incidencia\n",
    "A = zeros(Int, size(nodes, 1), size(lines, 1))\n",
    "for i in 1:length(lines.FROM)\n",
    "    k = lines.FROM[i]\n",
    "    m = lines.TO[i]\n",
    "    A[k, i] = 1\n",
    "    A[m, i] = -1\n",
    "end\n",
    "display(A)"
   ]
  },
  {
   "cell_type": "code",
   "execution_count": 4,
   "id": "09b08486",
   "metadata": {},
   "outputs": [
    {
     "data": {
      "text/plain": [
       "3-element Vector{Float64}:\n",
       " 50.0\n",
       " 60.0\n",
       " 70.0"
      ]
     },
     "metadata": {},
     "output_type": "display_data"
    }
   ],
   "source": [
    "# 2. Creando un vector de flujos de potencia\n",
    "flujos = [50.0, 60.0, 70.0] # Ejemplo de flujos de potencia en MW"
   ]
  },
  {
   "cell_type": "code",
   "execution_count": 5,
   "id": "e738b455",
   "metadata": {},
   "outputs": [
    {
     "data": {
      "text/plain": [
       "4-element Vector{Float64}:\n",
       "  50.0\n",
       "  10.0\n",
       "  10.0\n",
       " -70.0"
      ]
     },
     "metadata": {},
     "output_type": "display_data"
    }
   ],
   "source": [
    "# 3. Calculo del balance de potencia en cada nodo\n",
    "balance = A * flujos\n",
    "display(balance)"
   ]
  },
  {
   "cell_type": "code",
   "execution_count": null,
   "id": "e657665c",
   "metadata": {},
   "outputs": [
    {
     "name": "stdout",
     "output_type": "stream",
     "text": [
      "Ángulos nodales: [50.0, -25.0, -15.0, -10.0]\n"
     ]
    }
   ],
   "source": [
    "# 4. Resolviendo el sistema de ecuaciones para hallar los angulos nodales\n",
    "B = [2.0, 2.0, 2.0, 2.0] # Ejemplo de susceptancias nodales\n",
    "Y = Diagonal(B) # Matriz de susceptancias nodales\n",
    "# Definiendo el vector de flujos de potencia\n",
    "Pn = [100.0, -50.0, -30.0, -20.0]\n",
    "\n",
    "θ = Y \\ Pn # Resolviendo el sistema de ecuaciones (θ = inv(Y)* Pn)\n",
    "println(\"Ángulos nodales: \", θ)"
   ]
  }
 ],
 "metadata": {
  "kernelspec": {
   "display_name": "Julia 1.11.3",
   "language": "julia",
   "name": "julia-1.11"
  },
  "language_info": {
   "file_extension": ".jl",
   "mimetype": "application/julia",
   "name": "julia",
   "version": "1.11.3"
  }
 },
 "nbformat": 4,
 "nbformat_minor": 5
}
