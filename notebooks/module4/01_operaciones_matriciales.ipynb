{
 "cells": [
  {
   "cell_type": "markdown",
   "id": "59c7d02d",
   "metadata": {},
   "source": [
    "# **Módulo 4: Álgebra Lineal con LinearAlgebra**\n",
    "\n",
    "**Objetivo:** Aplicar álgebra lineal en sistemas de potencia utilizando el paquete LinearAlgebra en Julia.\n",
    "\n",
    "---\n",
    "\n",
    "### 0. Introducción a LinearAlgebra\n",
    "\n",
    "El paquete `LinearAlgebra` es parte de la biblioteca estándar de Julia y proporciona herramientas para realizar operaciones matriciales y vectoriales de manera eficiente. En sistemas de potencia, estas operaciones son esenciales para construir matrices de incidencia, resolver sistemas lineales (como en flujos DC) o calcular propiedades de la red.\n",
    "\n",
    "#### Cargar LinearAlgebra\n",
    "\n",
    "El paquete está incluido en Julia, así que solo necesitas importarlo:"
   ]
  },
  {
   "cell_type": "code",
   "execution_count": 3,
   "id": "1e90eaa5",
   "metadata": {},
   "outputs": [],
   "source": [
    "using LinearAlgebra"
   ]
  },
  {
   "cell_type": "markdown",
   "id": "02902e8f",
   "metadata": {},
   "source": [
    "---"
   ]
  },
  {
   "cell_type": "markdown",
   "id": "17bb4f9c",
   "metadata": {},
   "source": [
    "### 1. Operaciones Matriciales\n",
    "\n",
    "#### Creación de Matrices y Vectores\n",
    "\n",
    "* Vectores:"
   ]
  },
  {
   "cell_type": "code",
   "execution_count": 4,
   "id": "4f0c30e2",
   "metadata": {},
   "outputs": [
    {
     "data": {
      "text/plain": [
       "3-element Vector{Float64}:\n",
       " 1.0\n",
       " 2.0\n",
       " 3.0"
      ]
     },
     "metadata": {},
     "output_type": "display_data"
    }
   ],
   "source": [
    "v = [1.0, 2.0, 3.0]"
   ]
  },
  {
   "cell_type": "markdown",
   "id": "7f2ce98a",
   "metadata": {},
   "source": [
    "* Matrices:"
   ]
  },
  {
   "cell_type": "code",
   "execution_count": 5,
   "id": "70f9ebf9",
   "metadata": {},
   "outputs": [
    {
     "data": {
      "text/plain": [
       "2×2 Matrix{Float64}:\n",
       " 1.0  2.0\n",
       " 3.0  4.0"
      ]
     },
     "metadata": {},
     "output_type": "display_data"
    }
   ],
   "source": [
    "A = [1.0 2.0; 3.0 4.0]"
   ]
  },
  {
   "cell_type": "markdown",
   "id": "8672f819",
   "metadata": {},
   "source": [
    "#### Operaciones Básicas\n",
    "\n",
    "* Suma y Resta:"
   ]
  },
  {
   "cell_type": "code",
   "execution_count": 6,
   "id": "31b150c7",
   "metadata": {},
   "outputs": [
    {
     "data": {
      "text/plain": [
       "2×2 Matrix{Float64}:\n",
       " 1.5  3.0\n",
       " 4.5  6.0"
      ]
     },
     "metadata": {},
     "output_type": "display_data"
    }
   ],
   "source": [
    "B = [0.5 1.0; 1.5 2.0]\n",
    "C = A + B  # [1.5 3.0; 4.5 6.0]"
   ]
  },
  {
   "cell_type": "markdown",
   "id": "1147fc49",
   "metadata": {},
   "source": [
    "* Multiplicación por Escalar:"
   ]
  },
  {
   "cell_type": "code",
   "execution_count": 7,
   "id": "adb34455",
   "metadata": {},
   "outputs": [
    {
     "data": {
      "text/plain": [
       "2×2 Matrix{Float64}:\n",
       " 2.0  4.0\n",
       " 6.0  8.0"
      ]
     },
     "metadata": {},
     "output_type": "display_data"
    }
   ],
   "source": [
    "D = 2 * A  # [2.0 4.0; 6.0 8.0]"
   ]
  },
  {
   "cell_type": "markdown",
   "id": "cff4948e",
   "metadata": {},
   "source": [
    "* Multiplicación Matricial"
   ]
  },
  {
   "cell_type": "code",
   "execution_count": 8,
   "id": "d1361c18",
   "metadata": {},
   "outputs": [
    {
     "data": {
      "text/plain": [
       "2×2 Matrix{Float64}:\n",
       " 3.5   5.0\n",
       " 7.5  11.0"
      ]
     },
     "metadata": {},
     "output_type": "display_data"
    }
   ],
   "source": [
    "E = A * B"
   ]
  },
  {
   "cell_type": "markdown",
   "id": "8fe2fbea",
   "metadata": {},
   "source": [
    "* Producto de Hadamard entre matrices"
   ]
  },
  {
   "cell_type": "code",
   "execution_count": null,
   "id": "5a8dcb19",
   "metadata": {},
   "outputs": [
    {
     "data": {
      "text/plain": [
       "2×2 Matrix{Float64}:\n",
       " 0.5  2.0\n",
       " 4.5  8.0"
      ]
     },
     "metadata": {},
     "output_type": "display_data"
    }
   ],
   "source": [
    "F = A .* B  # [0.5, 2.0; 4.5 8.0]"
   ]
  },
  {
   "cell_type": "markdown",
   "id": "8e795e05",
   "metadata": {},
   "source": [
    "* Transpuesta:"
   ]
  },
  {
   "cell_type": "code",
   "execution_count": 10,
   "id": "a3b41c92",
   "metadata": {},
   "outputs": [
    {
     "data": {
      "text/plain": [
       "2×2 transpose(::Matrix{Float64}) with eltype Float64:\n",
       " 1.0  3.0\n",
       " 2.0  4.0"
      ]
     },
     "metadata": {},
     "output_type": "display_data"
    }
   ],
   "source": [
    "At = transpose(A)"
   ]
  },
  {
   "cell_type": "markdown",
   "id": "b50422fe",
   "metadata": {},
   "source": [
    "* Inversa (si la matriz es invertible):"
   ]
  },
  {
   "cell_type": "code",
   "execution_count": 11,
   "id": "df83f399",
   "metadata": {},
   "outputs": [
    {
     "data": {
      "text/plain": [
       "2×2 Matrix{Float64}:\n",
       " -2.0   1.0\n",
       "  1.5  -0.5"
      ]
     },
     "metadata": {},
     "output_type": "display_data"
    }
   ],
   "source": [
    "Ainv = inv(A)"
   ]
  },
  {
   "cell_type": "markdown",
   "id": "eefa4389",
   "metadata": {},
   "source": [
    "* Pseudoinversa (Moore-Penrose)"
   ]
  },
  {
   "cell_type": "code",
   "execution_count": null,
   "id": "c79a5a51",
   "metadata": {},
   "outputs": [
    {
     "data": {
      "text/plain": [
       "2×2 Matrix{Float64}:\n",
       " -2.0   1.0\n",
       "  1.5  -0.5"
      ]
     },
     "metadata": {},
     "output_type": "display_data"
    }
   ],
   "source": [
    "# La seudo inversa se usa en caso de que la matriz no sea invertible\n",
    "pinv_A = pinv(A) # [-2.0 1.0; 1.5 -0.5]"
   ]
  }
 ],
 "metadata": {
  "kernelspec": {
   "display_name": "Julia 1.11.3",
   "language": "julia",
   "name": "julia-1.11"
  },
  "language_info": {
   "file_extension": ".jl",
   "mimetype": "application/julia",
   "name": "julia",
   "version": "1.11.3"
  }
 },
 "nbformat": 4,
 "nbformat_minor": 5
}
