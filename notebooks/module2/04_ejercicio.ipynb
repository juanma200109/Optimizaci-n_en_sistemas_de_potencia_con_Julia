{
 "cells": [
  {
   "cell_type": "markdown",
   "id": "9b0e09c1",
   "metadata": {},
   "source": [
    "### 5. Integración con Sistemas de Potencia\n",
    "\n",
    "En el contexto de sistemas de potencia, los `DataFrames` son útiles para almacenar y manipular datos de:\n",
    "\n",
    "* Nodos: Información de generadores, cargas, voltajes, etc.\n",
    "* Líneas: Parámetros como resistencia, reactancia, límites de flujo, etc.\n",
    "* Otros elementos: Transformadores, compensadores, etc.\n",
    "\n",
    "Por ejemplo, en un código de flujo DC, podrías usar:"
   ]
  },
  {
   "cell_type": "code",
   "execution_count": 1,
   "id": "3ab5791d",
   "metadata": {},
   "outputs": [
    {
     "data": {
      "text/html": [
       "<div><div style = \"float: left;\"><span>11×14 DataFrame</span></div><div style = \"clear: both;\"></div></div><div class = \"data-frame\" style = \"overflow-x: scroll;\"><table class = \"data-frame\" style = \"margin-bottom: 6px;\"><thead><tr class = \"header\"><th class = \"rowNumber\" style = \"font-weight: bold; text-align: right;\">Row</th><th style = \"text-align: left;\">FROM</th><th style = \"text-align: left;\">TO</th><th style = \"text-align: left;\">TYPE</th><th style = \"text-align: left;\">R</th><th style = \"text-align: left;\">X</th><th style = \"text-align: left;\">B</th><th style = \"text-align: left;\">LIM1</th><th style = \"text-align: left;\">LIM2</th><th style = \"text-align: left;\">LIM3</th><th style = \"text-align: left;\">TAP</th><th style = \"text-align: left;\">TAPMIN</th><th style = \"text-align: left;\">TAPMAX</th><th style = \"text-align: left;\">STEP</th><th style = \"text-align: left;\">TANG</th></tr><tr class = \"subheader headerLastRow\"><th class = \"rowNumber\" style = \"font-weight: bold; text-align: right;\"></th><th title = \"Int64\" style = \"text-align: left;\">Int64</th><th title = \"Int64\" style = \"text-align: left;\">Int64</th><th title = \"Int64\" style = \"text-align: left;\">Int64</th><th title = \"Float64\" style = \"text-align: left;\">Float64</th><th title = \"Float64\" style = \"text-align: left;\">Float64</th><th title = \"Float64\" style = \"text-align: left;\">Float64</th><th title = \"Float64\" style = \"text-align: left;\">Float64</th><th title = \"Int64\" style = \"text-align: left;\">Int64</th><th title = \"Int64\" style = \"text-align: left;\">Int64</th><th title = \"Int64\" style = \"text-align: left;\">Int64</th><th title = \"Int64\" style = \"text-align: left;\">Int64</th><th title = \"Int64\" style = \"text-align: left;\">Int64</th><th title = \"Int64\" style = \"text-align: left;\">Int64</th><th title = \"Int64\" style = \"text-align: left;\">Int64</th></tr></thead><tbody><tr><td class = \"rowNumber\" style = \"font-weight: bold; text-align: right;\">1</td><td style = \"text-align: right;\">1</td><td style = \"text-align: right;\">2</td><td style = \"text-align: right;\">0</td><td style = \"text-align: right;\">0.1</td><td style = \"text-align: right;\">0.2</td><td style = \"text-align: right;\">0.02</td><td style = \"text-align: right;\">0.7</td><td style = \"text-align: right;\">0</td><td style = \"text-align: right;\">0</td><td style = \"text-align: right;\">0</td><td style = \"text-align: right;\">0</td><td style = \"text-align: right;\">0</td><td style = \"text-align: right;\">0</td><td style = \"text-align: right;\">0</td></tr><tr><td class = \"rowNumber\" style = \"font-weight: bold; text-align: right;\">2</td><td style = \"text-align: right;\">1</td><td style = \"text-align: right;\">4</td><td style = \"text-align: right;\">0</td><td style = \"text-align: right;\">0.05</td><td style = \"text-align: right;\">0.2</td><td style = \"text-align: right;\">0.02</td><td style = \"text-align: right;\">0.9</td><td style = \"text-align: right;\">0</td><td style = \"text-align: right;\">0</td><td style = \"text-align: right;\">0</td><td style = \"text-align: right;\">0</td><td style = \"text-align: right;\">0</td><td style = \"text-align: right;\">0</td><td style = \"text-align: right;\">0</td></tr><tr><td class = \"rowNumber\" style = \"font-weight: bold; text-align: right;\">3</td><td style = \"text-align: right;\">1</td><td style = \"text-align: right;\">5</td><td style = \"text-align: right;\">0</td><td style = \"text-align: right;\">0.08</td><td style = \"text-align: right;\">0.3</td><td style = \"text-align: right;\">0.03</td><td style = \"text-align: right;\">0.7</td><td style = \"text-align: right;\">0</td><td style = \"text-align: right;\">0</td><td style = \"text-align: right;\">0</td><td style = \"text-align: right;\">0</td><td style = \"text-align: right;\">0</td><td style = \"text-align: right;\">0</td><td style = \"text-align: right;\">0</td></tr><tr><td class = \"rowNumber\" style = \"font-weight: bold; text-align: right;\">4</td><td style = \"text-align: right;\">2</td><td style = \"text-align: right;\">3</td><td style = \"text-align: right;\">0</td><td style = \"text-align: right;\">0.05</td><td style = \"text-align: right;\">0.25</td><td style = \"text-align: right;\">0.03</td><td style = \"text-align: right;\">0.2</td><td style = \"text-align: right;\">0</td><td style = \"text-align: right;\">0</td><td style = \"text-align: right;\">0</td><td style = \"text-align: right;\">0</td><td style = \"text-align: right;\">0</td><td style = \"text-align: right;\">0</td><td style = \"text-align: right;\">0</td></tr><tr><td class = \"rowNumber\" style = \"font-weight: bold; text-align: right;\">5</td><td style = \"text-align: right;\">2</td><td style = \"text-align: right;\">4</td><td style = \"text-align: right;\">0</td><td style = \"text-align: right;\">0.05</td><td style = \"text-align: right;\">0.1</td><td style = \"text-align: right;\">0.01</td><td style = \"text-align: right;\">0.5</td><td style = \"text-align: right;\">0</td><td style = \"text-align: right;\">0</td><td style = \"text-align: right;\">0</td><td style = \"text-align: right;\">0</td><td style = \"text-align: right;\">0</td><td style = \"text-align: right;\">0</td><td style = \"text-align: right;\">0</td></tr><tr><td class = \"rowNumber\" style = \"font-weight: bold; text-align: right;\">6</td><td style = \"text-align: right;\">2</td><td style = \"text-align: right;\">5</td><td style = \"text-align: right;\">0</td><td style = \"text-align: right;\">0.1</td><td style = \"text-align: right;\">0.3</td><td style = \"text-align: right;\">0.02</td><td style = \"text-align: right;\">0.4</td><td style = \"text-align: right;\">0</td><td style = \"text-align: right;\">0</td><td style = \"text-align: right;\">0</td><td style = \"text-align: right;\">0</td><td style = \"text-align: right;\">0</td><td style = \"text-align: right;\">0</td><td style = \"text-align: right;\">0</td></tr><tr><td class = \"rowNumber\" style = \"font-weight: bold; text-align: right;\">7</td><td style = \"text-align: right;\">2</td><td style = \"text-align: right;\">6</td><td style = \"text-align: right;\">0</td><td style = \"text-align: right;\">0.07</td><td style = \"text-align: right;\">0.2</td><td style = \"text-align: right;\">0.025</td><td style = \"text-align: right;\">0.6</td><td style = \"text-align: right;\">0</td><td style = \"text-align: right;\">0</td><td style = \"text-align: right;\">0</td><td style = \"text-align: right;\">0</td><td style = \"text-align: right;\">0</td><td style = \"text-align: right;\">0</td><td style = \"text-align: right;\">0</td></tr><tr><td class = \"rowNumber\" style = \"font-weight: bold; text-align: right;\">8</td><td style = \"text-align: right;\">3</td><td style = \"text-align: right;\">5</td><td style = \"text-align: right;\">0</td><td style = \"text-align: right;\">0.12</td><td style = \"text-align: right;\">0.26</td><td style = \"text-align: right;\">0.025</td><td style = \"text-align: right;\">0.3</td><td style = \"text-align: right;\">0</td><td style = \"text-align: right;\">0</td><td style = \"text-align: right;\">0</td><td style = \"text-align: right;\">0</td><td style = \"text-align: right;\">0</td><td style = \"text-align: right;\">0</td><td style = \"text-align: right;\">0</td></tr><tr><td class = \"rowNumber\" style = \"font-weight: bold; text-align: right;\">9</td><td style = \"text-align: right;\">3</td><td style = \"text-align: right;\">6</td><td style = \"text-align: right;\">0</td><td style = \"text-align: right;\">0.02</td><td style = \"text-align: right;\">0.1</td><td style = \"text-align: right;\">0.01</td><td style = \"text-align: right;\">0.7</td><td style = \"text-align: right;\">0</td><td style = \"text-align: right;\">0</td><td style = \"text-align: right;\">0</td><td style = \"text-align: right;\">0</td><td style = \"text-align: right;\">0</td><td style = \"text-align: right;\">0</td><td style = \"text-align: right;\">0</td></tr><tr><td class = \"rowNumber\" style = \"font-weight: bold; text-align: right;\">10</td><td style = \"text-align: right;\">4</td><td style = \"text-align: right;\">5</td><td style = \"text-align: right;\">0</td><td style = \"text-align: right;\">0.2</td><td style = \"text-align: right;\">0.4</td><td style = \"text-align: right;\">0.04</td><td style = \"text-align: right;\">0.3</td><td style = \"text-align: right;\">0</td><td style = \"text-align: right;\">0</td><td style = \"text-align: right;\">0</td><td style = \"text-align: right;\">0</td><td style = \"text-align: right;\">0</td><td style = \"text-align: right;\">0</td><td style = \"text-align: right;\">0</td></tr><tr><td class = \"rowNumber\" style = \"font-weight: bold; text-align: right;\">11</td><td style = \"text-align: right;\">5</td><td style = \"text-align: right;\">6</td><td style = \"text-align: right;\">0</td><td style = \"text-align: right;\">0.1</td><td style = \"text-align: right;\">0.3</td><td style = \"text-align: right;\">0.03</td><td style = \"text-align: right;\">0.2</td><td style = \"text-align: right;\">0</td><td style = \"text-align: right;\">0</td><td style = \"text-align: right;\">0</td><td style = \"text-align: right;\">0</td><td style = \"text-align: right;\">0</td><td style = \"text-align: right;\">0</td><td style = \"text-align: right;\">0</td></tr></tbody></table></div>"
      ],
      "text/latex": [
       "\\begin{tabular}{r|cccccccccccc}\n",
       "\t& FROM & TO & TYPE & R & X & B & LIM1 & LIM2 & LIM3 & TAP & TAPMIN & \\\\\n",
       "\t\\hline\n",
       "\t& Int64 & Int64 & Int64 & Float64 & Float64 & Float64 & Float64 & Int64 & Int64 & Int64 & Int64 & \\\\\n",
       "\t\\hline\n",
       "\t1 & 1 & 2 & 0 & 0.1 & 0.2 & 0.02 & 0.7 & 0 & 0 & 0 & 0 & $\\dots$ \\\\\n",
       "\t2 & 1 & 4 & 0 & 0.05 & 0.2 & 0.02 & 0.9 & 0 & 0 & 0 & 0 & $\\dots$ \\\\\n",
       "\t3 & 1 & 5 & 0 & 0.08 & 0.3 & 0.03 & 0.7 & 0 & 0 & 0 & 0 & $\\dots$ \\\\\n",
       "\t4 & 2 & 3 & 0 & 0.05 & 0.25 & 0.03 & 0.2 & 0 & 0 & 0 & 0 & $\\dots$ \\\\\n",
       "\t5 & 2 & 4 & 0 & 0.05 & 0.1 & 0.01 & 0.5 & 0 & 0 & 0 & 0 & $\\dots$ \\\\\n",
       "\t6 & 2 & 5 & 0 & 0.1 & 0.3 & 0.02 & 0.4 & 0 & 0 & 0 & 0 & $\\dots$ \\\\\n",
       "\t7 & 2 & 6 & 0 & 0.07 & 0.2 & 0.025 & 0.6 & 0 & 0 & 0 & 0 & $\\dots$ \\\\\n",
       "\t8 & 3 & 5 & 0 & 0.12 & 0.26 & 0.025 & 0.3 & 0 & 0 & 0 & 0 & $\\dots$ \\\\\n",
       "\t9 & 3 & 6 & 0 & 0.02 & 0.1 & 0.01 & 0.7 & 0 & 0 & 0 & 0 & $\\dots$ \\\\\n",
       "\t10 & 4 & 5 & 0 & 0.2 & 0.4 & 0.04 & 0.3 & 0 & 0 & 0 & 0 & $\\dots$ \\\\\n",
       "\t11 & 5 & 6 & 0 & 0.1 & 0.3 & 0.03 & 0.2 & 0 & 0 & 0 & 0 & $\\dots$ \\\\\n",
       "\\end{tabular}\n"
      ],
      "text/plain": [
       "\u001b[1m11×14 DataFrame\u001b[0m\n",
       "\u001b[1m Row \u001b[0m│\u001b[1m FROM  \u001b[0m\u001b[1m TO    \u001b[0m\u001b[1m TYPE  \u001b[0m\u001b[1m R       \u001b[0m\u001b[1m X       \u001b[0m\u001b[1m B       \u001b[0m\u001b[1m LIM1    \u001b[0m\u001b[1m LIM2  \u001b[0m\u001b[1m LIM3  \u001b[0m\u001b[1m \u001b[0m ⋯\n",
       "     │\u001b[90m Int64 \u001b[0m\u001b[90m Int64 \u001b[0m\u001b[90m Int64 \u001b[0m\u001b[90m Float64 \u001b[0m\u001b[90m Float64 \u001b[0m\u001b[90m Float64 \u001b[0m\u001b[90m Float64 \u001b[0m\u001b[90m Int64 \u001b[0m\u001b[90m Int64 \u001b[0m\u001b[90m \u001b[0m ⋯\n",
       "─────┼──────────────────────────────────────────────────────────────────────────\n",
       "   1 │     1      2      0     0.1      0.2     0.02       0.7      0      0   ⋯\n",
       "   2 │     1      4      0     0.05     0.2     0.02       0.9      0      0\n",
       "   3 │     1      5      0     0.08     0.3     0.03       0.7      0      0\n",
       "   4 │     2      3      0     0.05     0.25    0.03       0.2      0      0\n",
       "   5 │     2      4      0     0.05     0.1     0.01       0.5      0      0   ⋯\n",
       "   6 │     2      5      0     0.1      0.3     0.02       0.4      0      0\n",
       "   7 │     2      6      0     0.07     0.2     0.025      0.6      0      0\n",
       "   8 │     3      5      0     0.12     0.26    0.025      0.3      0      0\n",
       "   9 │     3      6      0     0.02     0.1     0.01       0.7      0      0   ⋯\n",
       "  10 │     4      5      0     0.2      0.4     0.04       0.3      0      0\n",
       "  11 │     5      6      0     0.1      0.3     0.03       0.2      0      0\n",
       "\u001b[36m                                                               5 columns omitted\u001b[0m"
      ]
     },
     "metadata": {},
     "output_type": "display_data"
    }
   ],
   "source": [
    "using DataFrames\n",
    "using CSV\n",
    "\n",
    "# Cargado el dataset de nodes\n",
    "nodes = CSV.read(\"../../data/module2/nodes.csv\", DataFrame)\n",
    "\n",
    "# Cargado el dataset de lines\n",
    "lines = CSV.read(\"../../data/module2/lines.csv\", DataFrame)"
   ]
  },
  {
   "cell_type": "markdown",
   "id": "7149c084",
   "metadata": {},
   "source": [
    "### Ejercicio Práctico\n",
    "\n",
    "**Objetivos:** Aplicar los conceptos aprendidos sobre el manejo de DataFrames\n",
    "\n",
    "**Tarea:**\n",
    "\n",
    "1. Crea un DataFrame manualmente con datos de 4 nodos (Nodo, PGEN, PLOAD, COSTO).\n",
    "2. Añade una columna NET_P que sea PGEN - PLOAD.\n",
    "3. Filtra los nodos donde NET_P > 50.\n",
    "4. Ordena el DataFrame filtrado por COSTO de manera descendente.\n",
    "5. Escribe el DataFrame filtrado en un archivo CSV llamado filtered_nodes.csv."
   ]
  },
  {
   "cell_type": "code",
   "execution_count": 3,
   "id": "89f0478d",
   "metadata": {},
   "outputs": [
    {
     "data": {
      "text/html": [
       "<div><div style = \"float: left;\"><span>4×4 DataFrame</span></div><div style = \"clear: both;\"></div></div><div class = \"data-frame\" style = \"overflow-x: scroll;\"><table class = \"data-frame\" style = \"margin-bottom: 6px;\"><thead><tr class = \"header\"><th class = \"rowNumber\" style = \"font-weight: bold; text-align: right;\">Row</th><th style = \"text-align: left;\">Nodo</th><th style = \"text-align: left;\">PGEN</th><th style = \"text-align: left;\">PLOAD</th><th style = \"text-align: left;\">COSTO</th></tr><tr class = \"subheader headerLastRow\"><th class = \"rowNumber\" style = \"font-weight: bold; text-align: right;\"></th><th title = \"Int64\" style = \"text-align: left;\">Int64</th><th title = \"Float64\" style = \"text-align: left;\">Float64</th><th title = \"Float64\" style = \"text-align: left;\">Float64</th><th title = \"Float64\" style = \"text-align: left;\">Float64</th></tr></thead><tbody><tr><td class = \"rowNumber\" style = \"font-weight: bold; text-align: right;\">1</td><td style = \"text-align: right;\">1</td><td style = \"text-align: right;\">100.0</td><td style = \"text-align: right;\">50.0</td><td style = \"text-align: right;\">10.0</td></tr><tr><td class = \"rowNumber\" style = \"font-weight: bold; text-align: right;\">2</td><td style = \"text-align: right;\">2</td><td style = \"text-align: right;\">150.0</td><td style = \"text-align: right;\">60.0</td><td style = \"text-align: right;\">15.0</td></tr><tr><td class = \"rowNumber\" style = \"font-weight: bold; text-align: right;\">3</td><td style = \"text-align: right;\">3</td><td style = \"text-align: right;\">200.0</td><td style = \"text-align: right;\">70.0</td><td style = \"text-align: right;\">20.0</td></tr><tr><td class = \"rowNumber\" style = \"font-weight: bold; text-align: right;\">4</td><td style = \"text-align: right;\">4</td><td style = \"text-align: right;\">170.0</td><td style = \"text-align: right;\">45.0</td><td style = \"text-align: right;\">15.0</td></tr></tbody></table></div>"
      ],
      "text/latex": [
       "\\begin{tabular}{r|cccc}\n",
       "\t& Nodo & PGEN & PLOAD & COSTO\\\\\n",
       "\t\\hline\n",
       "\t& Int64 & Float64 & Float64 & Float64\\\\\n",
       "\t\\hline\n",
       "\t1 & 1 & 100.0 & 50.0 & 10.0 \\\\\n",
       "\t2 & 2 & 150.0 & 60.0 & 15.0 \\\\\n",
       "\t3 & 3 & 200.0 & 70.0 & 20.0 \\\\\n",
       "\t4 & 4 & 170.0 & 45.0 & 15.0 \\\\\n",
       "\\end{tabular}\n"
      ],
      "text/plain": [
       "\u001b[1m4×4 DataFrame\u001b[0m\n",
       "\u001b[1m Row \u001b[0m│\u001b[1m Nodo  \u001b[0m\u001b[1m PGEN    \u001b[0m\u001b[1m PLOAD   \u001b[0m\u001b[1m COSTO   \u001b[0m\n",
       "     │\u001b[90m Int64 \u001b[0m\u001b[90m Float64 \u001b[0m\u001b[90m Float64 \u001b[0m\u001b[90m Float64 \u001b[0m\n",
       "─────┼──────────────────────────────────\n",
       "   1 │     1    100.0     50.0     10.0\n",
       "   2 │     2    150.0     60.0     15.0\n",
       "   3 │     3    200.0     70.0     20.0\n",
       "   4 │     4    170.0     45.0     15.0"
      ]
     },
     "metadata": {},
     "output_type": "display_data"
    }
   ],
   "source": [
    "# 1. Cargar el dataset de nodes y lines\n",
    "df = DataFrame(Nodo = [1, 2, 3, 4], PGEN = [100.0, 150.0, 200.0, 170.0], PLOAD = [50.0, 60.0, 70.0, 45.0], COSTO = [10.0, 15.0, 20.0, 15.0])\n"
   ]
  },
  {
   "cell_type": "code",
   "execution_count": 4,
   "id": "714f077e",
   "metadata": {},
   "outputs": [
    {
     "data": {
      "text/html": [
       "<div><div style = \"float: left;\"><span>4×5 DataFrame</span></div><div style = \"clear: both;\"></div></div><div class = \"data-frame\" style = \"overflow-x: scroll;\"><table class = \"data-frame\" style = \"margin-bottom: 6px;\"><thead><tr class = \"header\"><th class = \"rowNumber\" style = \"font-weight: bold; text-align: right;\">Row</th><th style = \"text-align: left;\">Nodo</th><th style = \"text-align: left;\">PGEN</th><th style = \"text-align: left;\">PLOAD</th><th style = \"text-align: left;\">COSTO</th><th style = \"text-align: left;\">PDIFF</th></tr><tr class = \"subheader headerLastRow\"><th class = \"rowNumber\" style = \"font-weight: bold; text-align: right;\"></th><th title = \"Int64\" style = \"text-align: left;\">Int64</th><th title = \"Float64\" style = \"text-align: left;\">Float64</th><th title = \"Float64\" style = \"text-align: left;\">Float64</th><th title = \"Float64\" style = \"text-align: left;\">Float64</th><th title = \"Float64\" style = \"text-align: left;\">Float64</th></tr></thead><tbody><tr><td class = \"rowNumber\" style = \"font-weight: bold; text-align: right;\">1</td><td style = \"text-align: right;\">1</td><td style = \"text-align: right;\">100.0</td><td style = \"text-align: right;\">50.0</td><td style = \"text-align: right;\">10.0</td><td style = \"text-align: right;\">50.0</td></tr><tr><td class = \"rowNumber\" style = \"font-weight: bold; text-align: right;\">2</td><td style = \"text-align: right;\">2</td><td style = \"text-align: right;\">150.0</td><td style = \"text-align: right;\">60.0</td><td style = \"text-align: right;\">15.0</td><td style = \"text-align: right;\">90.0</td></tr><tr><td class = \"rowNumber\" style = \"font-weight: bold; text-align: right;\">3</td><td style = \"text-align: right;\">3</td><td style = \"text-align: right;\">200.0</td><td style = \"text-align: right;\">70.0</td><td style = \"text-align: right;\">20.0</td><td style = \"text-align: right;\">130.0</td></tr><tr><td class = \"rowNumber\" style = \"font-weight: bold; text-align: right;\">4</td><td style = \"text-align: right;\">4</td><td style = \"text-align: right;\">170.0</td><td style = \"text-align: right;\">45.0</td><td style = \"text-align: right;\">15.0</td><td style = \"text-align: right;\">125.0</td></tr></tbody></table></div>"
      ],
      "text/latex": [
       "\\begin{tabular}{r|ccccc}\n",
       "\t& Nodo & PGEN & PLOAD & COSTO & PDIFF\\\\\n",
       "\t\\hline\n",
       "\t& Int64 & Float64 & Float64 & Float64 & Float64\\\\\n",
       "\t\\hline\n",
       "\t1 & 1 & 100.0 & 50.0 & 10.0 & 50.0 \\\\\n",
       "\t2 & 2 & 150.0 & 60.0 & 15.0 & 90.0 \\\\\n",
       "\t3 & 3 & 200.0 & 70.0 & 20.0 & 130.0 \\\\\n",
       "\t4 & 4 & 170.0 & 45.0 & 15.0 & 125.0 \\\\\n",
       "\\end{tabular}\n"
      ],
      "text/plain": [
       "\u001b[1m4×5 DataFrame\u001b[0m\n",
       "\u001b[1m Row \u001b[0m│\u001b[1m Nodo  \u001b[0m\u001b[1m PGEN    \u001b[0m\u001b[1m PLOAD   \u001b[0m\u001b[1m COSTO   \u001b[0m\u001b[1m PDIFF   \u001b[0m\n",
       "     │\u001b[90m Int64 \u001b[0m\u001b[90m Float64 \u001b[0m\u001b[90m Float64 \u001b[0m\u001b[90m Float64 \u001b[0m\u001b[90m Float64 \u001b[0m\n",
       "─────┼───────────────────────────────────────────\n",
       "   1 │     1    100.0     50.0     10.0     50.0\n",
       "   2 │     2    150.0     60.0     15.0     90.0\n",
       "   3 │     3    200.0     70.0     20.0    130.0\n",
       "   4 │     4    170.0     45.0     15.0    125.0"
      ]
     },
     "metadata": {},
     "output_type": "display_data"
    }
   ],
   "source": [
    "# 2. Añadir una columna al dataset de nodes que contenga la diferencia entre PGEN y PLOAD\n",
    "df.PDIFF = df.PGEN .- df.PLOAD\n",
    "df"
   ]
  },
  {
   "cell_type": "code",
   "execution_count": 5,
   "id": "2809899c",
   "metadata": {},
   "outputs": [
    {
     "data": {
      "text/html": [
       "<div><div style = \"float: left;\"><span>3×5 DataFrame</span></div><div style = \"clear: both;\"></div></div><div class = \"data-frame\" style = \"overflow-x: scroll;\"><table class = \"data-frame\" style = \"margin-bottom: 6px;\"><thead><tr class = \"header\"><th class = \"rowNumber\" style = \"font-weight: bold; text-align: right;\">Row</th><th style = \"text-align: left;\">Nodo</th><th style = \"text-align: left;\">PGEN</th><th style = \"text-align: left;\">PLOAD</th><th style = \"text-align: left;\">COSTO</th><th style = \"text-align: left;\">PDIFF</th></tr><tr class = \"subheader headerLastRow\"><th class = \"rowNumber\" style = \"font-weight: bold; text-align: right;\"></th><th title = \"Int64\" style = \"text-align: left;\">Int64</th><th title = \"Float64\" style = \"text-align: left;\">Float64</th><th title = \"Float64\" style = \"text-align: left;\">Float64</th><th title = \"Float64\" style = \"text-align: left;\">Float64</th><th title = \"Float64\" style = \"text-align: left;\">Float64</th></tr></thead><tbody><tr><td class = \"rowNumber\" style = \"font-weight: bold; text-align: right;\">1</td><td style = \"text-align: right;\">2</td><td style = \"text-align: right;\">150.0</td><td style = \"text-align: right;\">60.0</td><td style = \"text-align: right;\">15.0</td><td style = \"text-align: right;\">90.0</td></tr><tr><td class = \"rowNumber\" style = \"font-weight: bold; text-align: right;\">2</td><td style = \"text-align: right;\">3</td><td style = \"text-align: right;\">200.0</td><td style = \"text-align: right;\">70.0</td><td style = \"text-align: right;\">20.0</td><td style = \"text-align: right;\">130.0</td></tr><tr><td class = \"rowNumber\" style = \"font-weight: bold; text-align: right;\">3</td><td style = \"text-align: right;\">4</td><td style = \"text-align: right;\">170.0</td><td style = \"text-align: right;\">45.0</td><td style = \"text-align: right;\">15.0</td><td style = \"text-align: right;\">125.0</td></tr></tbody></table></div>"
      ],
      "text/latex": [
       "\\begin{tabular}{r|ccccc}\n",
       "\t& Nodo & PGEN & PLOAD & COSTO & PDIFF\\\\\n",
       "\t\\hline\n",
       "\t& Int64 & Float64 & Float64 & Float64 & Float64\\\\\n",
       "\t\\hline\n",
       "\t1 & 2 & 150.0 & 60.0 & 15.0 & 90.0 \\\\\n",
       "\t2 & 3 & 200.0 & 70.0 & 20.0 & 130.0 \\\\\n",
       "\t3 & 4 & 170.0 & 45.0 & 15.0 & 125.0 \\\\\n",
       "\\end{tabular}\n"
      ],
      "text/plain": [
       "\u001b[1m3×5 DataFrame\u001b[0m\n",
       "\u001b[1m Row \u001b[0m│\u001b[1m Nodo  \u001b[0m\u001b[1m PGEN    \u001b[0m\u001b[1m PLOAD   \u001b[0m\u001b[1m COSTO   \u001b[0m\u001b[1m PDIFF   \u001b[0m\n",
       "     │\u001b[90m Int64 \u001b[0m\u001b[90m Float64 \u001b[0m\u001b[90m Float64 \u001b[0m\u001b[90m Float64 \u001b[0m\u001b[90m Float64 \u001b[0m\n",
       "─────┼───────────────────────────────────────────\n",
       "   1 │     2    150.0     60.0     15.0     90.0\n",
       "   2 │     3    200.0     70.0     20.0    130.0\n",
       "   3 │     4    170.0     45.0     15.0    125.0"
      ]
     },
     "metadata": {},
     "output_type": "display_data"
    }
   ],
   "source": [
    "# 3. Filtrar el dataset de nodes por la columna PDIFF, mostrando solo los nodos donde PDIFF es mayor que 50\n",
    "df_filtered = filter(row -> row.PDIFF > 50, df)"
   ]
  },
  {
   "cell_type": "code",
   "execution_count": 6,
   "id": "2d98c938",
   "metadata": {},
   "outputs": [
    {
     "data": {
      "text/html": [
       "<div><div style = \"float: left;\"><span>4×5 DataFrame</span></div><div style = \"clear: both;\"></div></div><div class = \"data-frame\" style = \"overflow-x: scroll;\"><table class = \"data-frame\" style = \"margin-bottom: 6px;\"><thead><tr class = \"header\"><th class = \"rowNumber\" style = \"font-weight: bold; text-align: right;\">Row</th><th style = \"text-align: left;\">Nodo</th><th style = \"text-align: left;\">PGEN</th><th style = \"text-align: left;\">PLOAD</th><th style = \"text-align: left;\">COSTO</th><th style = \"text-align: left;\">PDIFF</th></tr><tr class = \"subheader headerLastRow\"><th class = \"rowNumber\" style = \"font-weight: bold; text-align: right;\"></th><th title = \"Int64\" style = \"text-align: left;\">Int64</th><th title = \"Float64\" style = \"text-align: left;\">Float64</th><th title = \"Float64\" style = \"text-align: left;\">Float64</th><th title = \"Float64\" style = \"text-align: left;\">Float64</th><th title = \"Float64\" style = \"text-align: left;\">Float64</th></tr></thead><tbody><tr><td class = \"rowNumber\" style = \"font-weight: bold; text-align: right;\">1</td><td style = \"text-align: right;\">3</td><td style = \"text-align: right;\">200.0</td><td style = \"text-align: right;\">70.0</td><td style = \"text-align: right;\">20.0</td><td style = \"text-align: right;\">130.0</td></tr><tr><td class = \"rowNumber\" style = \"font-weight: bold; text-align: right;\">2</td><td style = \"text-align: right;\">2</td><td style = \"text-align: right;\">150.0</td><td style = \"text-align: right;\">60.0</td><td style = \"text-align: right;\">15.0</td><td style = \"text-align: right;\">90.0</td></tr><tr><td class = \"rowNumber\" style = \"font-weight: bold; text-align: right;\">3</td><td style = \"text-align: right;\">4</td><td style = \"text-align: right;\">170.0</td><td style = \"text-align: right;\">45.0</td><td style = \"text-align: right;\">15.0</td><td style = \"text-align: right;\">125.0</td></tr><tr><td class = \"rowNumber\" style = \"font-weight: bold; text-align: right;\">4</td><td style = \"text-align: right;\">1</td><td style = \"text-align: right;\">100.0</td><td style = \"text-align: right;\">50.0</td><td style = \"text-align: right;\">10.0</td><td style = \"text-align: right;\">50.0</td></tr></tbody></table></div>"
      ],
      "text/latex": [
       "\\begin{tabular}{r|ccccc}\n",
       "\t& Nodo & PGEN & PLOAD & COSTO & PDIFF\\\\\n",
       "\t\\hline\n",
       "\t& Int64 & Float64 & Float64 & Float64 & Float64\\\\\n",
       "\t\\hline\n",
       "\t1 & 3 & 200.0 & 70.0 & 20.0 & 130.0 \\\\\n",
       "\t2 & 2 & 150.0 & 60.0 & 15.0 & 90.0 \\\\\n",
       "\t3 & 4 & 170.0 & 45.0 & 15.0 & 125.0 \\\\\n",
       "\t4 & 1 & 100.0 & 50.0 & 10.0 & 50.0 \\\\\n",
       "\\end{tabular}\n"
      ],
      "text/plain": [
       "\u001b[1m4×5 DataFrame\u001b[0m\n",
       "\u001b[1m Row \u001b[0m│\u001b[1m Nodo  \u001b[0m\u001b[1m PGEN    \u001b[0m\u001b[1m PLOAD   \u001b[0m\u001b[1m COSTO   \u001b[0m\u001b[1m PDIFF   \u001b[0m\n",
       "     │\u001b[90m Int64 \u001b[0m\u001b[90m Float64 \u001b[0m\u001b[90m Float64 \u001b[0m\u001b[90m Float64 \u001b[0m\u001b[90m Float64 \u001b[0m\n",
       "─────┼───────────────────────────────────────────\n",
       "   1 │     3    200.0     70.0     20.0    130.0\n",
       "   2 │     2    150.0     60.0     15.0     90.0\n",
       "   3 │     4    170.0     45.0     15.0    125.0\n",
       "   4 │     1    100.0     50.0     10.0     50.0"
      ]
     },
     "metadata": {},
     "output_type": "display_data"
    }
   ],
   "source": [
    "# 4. Ordena el dataset de nodes por la columna COSTO en orden descendente\n",
    "df_sorted = sort(df, :COSTO, rev=true)"
   ]
  },
  {
   "cell_type": "code",
   "execution_count": 7,
   "id": "9fbcc8d6",
   "metadata": {},
   "outputs": [
    {
     "data": {
      "text/plain": [
       "\"../../data/module2/filtered_nodes.csv\""
      ]
     },
     "metadata": {},
     "output_type": "display_data"
    }
   ],
   "source": [
    "# 5. Escribe el DataFrame filtrado en un archivo CSV llamado filtered_nodes.csv.\n",
    "CSV.write(\"../../data/module2/filtered_nodes.csv\", df_filtered)"
   ]
  }
 ],
 "metadata": {
  "kernelspec": {
   "display_name": "Julia 1.11.3",
   "language": "julia",
   "name": "julia-1.11"
  },
  "language_info": {
   "file_extension": ".jl",
   "mimetype": "application/julia",
   "name": "julia",
   "version": "1.11.3"
  }
 },
 "nbformat": 4,
 "nbformat_minor": 5
}
