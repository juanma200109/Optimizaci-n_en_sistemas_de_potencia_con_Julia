{
 "cells": [
  {
   "cell_type": "markdown",
   "id": "f9105d67",
   "metadata": {},
   "source": [
    "### 3. Lectura y Escritura de Archivos CSV\n",
    "\n",
    "`CSV` es un paquete que permite leer y escribir archivos en formato CSV, comúnmente usados para almacenar datos de sistemas de potencia.\n",
    "\n",
    "#### Lectura de un archivo CSV\n",
    "Para leer un archivo CSV y cargarlo en un `DataFrame`:"
   ]
  },
  {
   "cell_type": "code",
   "execution_count": 1,
   "id": "f70001d3",
   "metadata": {},
   "outputs": [
    {
     "data": {
      "text/html": [
       "<div><div style = \"float: left;\"><span>6×15 DataFrame</span></div><div style = \"clear: both;\"></div></div><div class = \"data-frame\" style = \"overflow-x: scroll;\"><table class = \"data-frame\" style = \"margin-bottom: 6px;\"><thead><tr class = \"header\"><th class = \"rowNumber\" style = \"font-weight: bold; text-align: right;\">Row</th><th style = \"text-align: left;\">NUMBER</th><th style = \"text-align: left;\">NAME</th><th style = \"text-align: left;\">TYPE</th><th style = \"text-align: left;\">VPU</th><th style = \"text-align: left;\">ANG</th><th style = \"text-align: left;\">PLOAD</th><th style = \"text-align: left;\">QLOAD</th><th style = \"text-align: left;\">PGEN</th><th style = \"text-align: left;\">QGEN</th><th style = \"text-align: left;\">KVBASE</th><th style = \"text-align: left;\">QMIN</th><th style = \"text-align: left;\">QMAX</th><th style = \"text-align: left;\">G</th><th style = \"text-align: left;\">B</th><th style = \"text-align: left;\">ID</th></tr><tr class = \"subheader headerLastRow\"><th class = \"rowNumber\" style = \"font-weight: bold; text-align: right;\"></th><th title = \"Int64\" style = \"text-align: left;\">Int64</th><th title = \"Int64\" style = \"text-align: left;\">Int64</th><th title = \"Int64\" style = \"text-align: left;\">Int64</th><th title = \"Float64\" style = \"text-align: left;\">Float64</th><th title = \"Int64\" style = \"text-align: left;\">Int64</th><th title = \"Float64\" style = \"text-align: left;\">Float64</th><th title = \"Float64\" style = \"text-align: left;\">Float64</th><th title = \"Float64\" style = \"text-align: left;\">Float64</th><th title = \"Float64\" style = \"text-align: left;\">Float64</th><th title = \"Int64\" style = \"text-align: left;\">Int64</th><th title = \"Int64\" style = \"text-align: left;\">Int64</th><th title = \"Int64\" style = \"text-align: left;\">Int64</th><th title = \"Int64\" style = \"text-align: left;\">Int64</th><th title = \"Int64\" style = \"text-align: left;\">Int64</th><th title = \"Int64\" style = \"text-align: left;\">Int64</th></tr></thead><tbody><tr><td class = \"rowNumber\" style = \"font-weight: bold; text-align: right;\">1</td><td style = \"text-align: right;\">1</td><td style = \"text-align: right;\">1</td><td style = \"text-align: right;\">3</td><td style = \"text-align: right;\">1.05</td><td style = \"text-align: right;\">0</td><td style = \"text-align: right;\">0.0</td><td style = \"text-align: right;\">0.0</td><td style = \"text-align: right;\">0.0</td><td style = \"text-align: right;\">0.0</td><td style = \"text-align: right;\">230</td><td style = \"text-align: right;\">0</td><td style = \"text-align: right;\">0</td><td style = \"text-align: right;\">0</td><td style = \"text-align: right;\">0</td><td style = \"text-align: right;\">1</td></tr><tr><td class = \"rowNumber\" style = \"font-weight: bold; text-align: right;\">2</td><td style = \"text-align: right;\">2</td><td style = \"text-align: right;\">2</td><td style = \"text-align: right;\">2</td><td style = \"text-align: right;\">1.05</td><td style = \"text-align: right;\">0</td><td style = \"text-align: right;\">0.0</td><td style = \"text-align: right;\">0.0</td><td style = \"text-align: right;\">0.5</td><td style = \"text-align: right;\">0.0</td><td style = \"text-align: right;\">230</td><td style = \"text-align: right;\">0</td><td style = \"text-align: right;\">0</td><td style = \"text-align: right;\">0</td><td style = \"text-align: right;\">0</td><td style = \"text-align: right;\">2</td></tr><tr><td class = \"rowNumber\" style = \"font-weight: bold; text-align: right;\">3</td><td style = \"text-align: right;\">3</td><td style = \"text-align: right;\">3</td><td style = \"text-align: right;\">2</td><td style = \"text-align: right;\">1.0</td><td style = \"text-align: right;\">0</td><td style = \"text-align: right;\">0.0</td><td style = \"text-align: right;\">0.0</td><td style = \"text-align: right;\">0.6</td><td style = \"text-align: right;\">0.0</td><td style = \"text-align: right;\">230</td><td style = \"text-align: right;\">0</td><td style = \"text-align: right;\">0</td><td style = \"text-align: right;\">0</td><td style = \"text-align: right;\">0</td><td style = \"text-align: right;\">3</td></tr><tr><td class = \"rowNumber\" style = \"font-weight: bold; text-align: right;\">4</td><td style = \"text-align: right;\">4</td><td style = \"text-align: right;\">4</td><td style = \"text-align: right;\">0</td><td style = \"text-align: right;\">1.0</td><td style = \"text-align: right;\">0</td><td style = \"text-align: right;\">0.7</td><td style = \"text-align: right;\">0.7</td><td style = \"text-align: right;\">0.0</td><td style = \"text-align: right;\">0.0</td><td style = \"text-align: right;\">230</td><td style = \"text-align: right;\">0</td><td style = \"text-align: right;\">0</td><td style = \"text-align: right;\">0</td><td style = \"text-align: right;\">0</td><td style = \"text-align: right;\">4</td></tr><tr><td class = \"rowNumber\" style = \"font-weight: bold; text-align: right;\">5</td><td style = \"text-align: right;\">5</td><td style = \"text-align: right;\">5</td><td style = \"text-align: right;\">0</td><td style = \"text-align: right;\">1.0</td><td style = \"text-align: right;\">0</td><td style = \"text-align: right;\">0.7</td><td style = \"text-align: right;\">0.7</td><td style = \"text-align: right;\">0.0</td><td style = \"text-align: right;\">0.0</td><td style = \"text-align: right;\">230</td><td style = \"text-align: right;\">0</td><td style = \"text-align: right;\">0</td><td style = \"text-align: right;\">0</td><td style = \"text-align: right;\">0</td><td style = \"text-align: right;\">5</td></tr><tr><td class = \"rowNumber\" style = \"font-weight: bold; text-align: right;\">6</td><td style = \"text-align: right;\">6</td><td style = \"text-align: right;\">6</td><td style = \"text-align: right;\">0</td><td style = \"text-align: right;\">1.0</td><td style = \"text-align: right;\">0</td><td style = \"text-align: right;\">0.7</td><td style = \"text-align: right;\">0.7</td><td style = \"text-align: right;\">0.0</td><td style = \"text-align: right;\">0.0</td><td style = \"text-align: right;\">230</td><td style = \"text-align: right;\">0</td><td style = \"text-align: right;\">0</td><td style = \"text-align: right;\">0</td><td style = \"text-align: right;\">0</td><td style = \"text-align: right;\">6</td></tr></tbody></table></div>"
      ],
      "text/latex": [
       "\\begin{tabular}{r|ccccccccccc}\n",
       "\t& NUMBER & NAME & TYPE & VPU & ANG & PLOAD & QLOAD & PGEN & QGEN & KVBASE & \\\\\n",
       "\t\\hline\n",
       "\t& Int64 & Int64 & Int64 & Float64 & Int64 & Float64 & Float64 & Float64 & Float64 & Int64 & \\\\\n",
       "\t\\hline\n",
       "\t1 & 1 & 1 & 3 & 1.05 & 0 & 0.0 & 0.0 & 0.0 & 0.0 & 230 & $\\dots$ \\\\\n",
       "\t2 & 2 & 2 & 2 & 1.05 & 0 & 0.0 & 0.0 & 0.5 & 0.0 & 230 & $\\dots$ \\\\\n",
       "\t3 & 3 & 3 & 2 & 1.0 & 0 & 0.0 & 0.0 & 0.6 & 0.0 & 230 & $\\dots$ \\\\\n",
       "\t4 & 4 & 4 & 0 & 1.0 & 0 & 0.7 & 0.7 & 0.0 & 0.0 & 230 & $\\dots$ \\\\\n",
       "\t5 & 5 & 5 & 0 & 1.0 & 0 & 0.7 & 0.7 & 0.0 & 0.0 & 230 & $\\dots$ \\\\\n",
       "\t6 & 6 & 6 & 0 & 1.0 & 0 & 0.7 & 0.7 & 0.0 & 0.0 & 230 & $\\dots$ \\\\\n",
       "\\end{tabular}\n"
      ],
      "text/plain": [
       "\u001b[1m6×15 DataFrame\u001b[0m\n",
       "\u001b[1m Row \u001b[0m│\u001b[1m NUMBER \u001b[0m\u001b[1m NAME  \u001b[0m\u001b[1m TYPE  \u001b[0m\u001b[1m VPU     \u001b[0m\u001b[1m ANG   \u001b[0m\u001b[1m PLOAD   \u001b[0m\u001b[1m QLOAD   \u001b[0m\u001b[1m PGEN    \u001b[0m\u001b[1m QGEN  \u001b[0m ⋯\n",
       "     │\u001b[90m Int64  \u001b[0m\u001b[90m Int64 \u001b[0m\u001b[90m Int64 \u001b[0m\u001b[90m Float64 \u001b[0m\u001b[90m Int64 \u001b[0m\u001b[90m Float64 \u001b[0m\u001b[90m Float64 \u001b[0m\u001b[90m Float64 \u001b[0m\u001b[90m Float6\u001b[0m ⋯\n",
       "─────┼──────────────────────────────────────────────────────────────────────────\n",
       "   1 │      1      1      3     1.05      0      0.0      0.0      0.0      0. ⋯\n",
       "   2 │      2      2      2     1.05      0      0.0      0.0      0.5      0.\n",
       "   3 │      3      3      2     1.0       0      0.0      0.0      0.6      0.\n",
       "   4 │      4      4      0     1.0       0      0.7      0.7      0.0      0.\n",
       "   5 │      5      5      0     1.0       0      0.7      0.7      0.0      0. ⋯\n",
       "   6 │      6      6      0     1.0       0      0.7      0.7      0.0      0.\n",
       "\u001b[36m                                                               7 columns omitted\u001b[0m"
      ]
     },
     "metadata": {},
     "output_type": "display_data"
    }
   ],
   "source": [
    "using DataFrames\n",
    "using CSV\n",
    "\n",
    "# Cargado el dataset de nodes\n",
    "nodes = CSV.read(\"../../data/module2/nodes.csv\", DataFrame)"
   ]
  },
  {
   "cell_type": "markdown",
   "id": "44cb905f",
   "metadata": {},
   "source": [
    "#### Escritura de CSV\n",
    "\n",
    "* Para escribir un DataFrame en un archivo CSV:"
   ]
  },
  {
   "cell_type": "code",
   "execution_count": 2,
   "id": "4bbcd25e",
   "metadata": {},
   "outputs": [
    {
     "data": {
      "text/plain": [
       "\"../../data/module2/data_simulada.csv\""
      ]
     },
     "metadata": {},
     "output_type": "display_data"
    }
   ],
   "source": [
    "df = DataFrame(Nodo = [1, 2, 3], PGEN = [100.0, 150.0, 200.0], PLOAD = [50.0, 60.0, 70.0], COSTO = [10.0, 15.0, 20.0])\n",
    "\n",
    "CSV.write(\"../../data/module2/data_simulada.csv\", df)"
   ]
  },
  {
   "cell_type": "markdown",
   "id": "97666f5f",
   "metadata": {},
   "source": [
    "### 4. Manipulación Avanzada de DataFrames\n",
    "\n",
    "### Añadir una nueva columna a un DataFrame\n",
    "\n",
    "* Puedes añadir nuevas columnas basadas en cálculos:"
   ]
  },
  {
   "cell_type": "code",
   "execution_count": 3,
   "id": "02540d95",
   "metadata": {},
   "outputs": [
    {
     "data": {
      "text/html": [
       "<div><div style = \"float: left;\"><span>3×5 DataFrame</span></div><div style = \"clear: both;\"></div></div><div class = \"data-frame\" style = \"overflow-x: scroll;\"><table class = \"data-frame\" style = \"margin-bottom: 6px;\"><thead><tr class = \"header\"><th class = \"rowNumber\" style = \"font-weight: bold; text-align: right;\">Row</th><th style = \"text-align: left;\">Nodo</th><th style = \"text-align: left;\">PGEN</th><th style = \"text-align: left;\">PLOAD</th><th style = \"text-align: left;\">COSTO</th><th style = \"text-align: left;\">NET_P</th></tr><tr class = \"subheader headerLastRow\"><th class = \"rowNumber\" style = \"font-weight: bold; text-align: right;\"></th><th title = \"Int64\" style = \"text-align: left;\">Int64</th><th title = \"Float64\" style = \"text-align: left;\">Float64</th><th title = \"Float64\" style = \"text-align: left;\">Float64</th><th title = \"Float64\" style = \"text-align: left;\">Float64</th><th title = \"Float64\" style = \"text-align: left;\">Float64</th></tr></thead><tbody><tr><td class = \"rowNumber\" style = \"font-weight: bold; text-align: right;\">1</td><td style = \"text-align: right;\">1</td><td style = \"text-align: right;\">100.0</td><td style = \"text-align: right;\">50.0</td><td style = \"text-align: right;\">10.0</td><td style = \"text-align: right;\">50.0</td></tr><tr><td class = \"rowNumber\" style = \"font-weight: bold; text-align: right;\">2</td><td style = \"text-align: right;\">2</td><td style = \"text-align: right;\">150.0</td><td style = \"text-align: right;\">60.0</td><td style = \"text-align: right;\">15.0</td><td style = \"text-align: right;\">90.0</td></tr><tr><td class = \"rowNumber\" style = \"font-weight: bold; text-align: right;\">3</td><td style = \"text-align: right;\">3</td><td style = \"text-align: right;\">200.0</td><td style = \"text-align: right;\">70.0</td><td style = \"text-align: right;\">20.0</td><td style = \"text-align: right;\">130.0</td></tr></tbody></table></div>"
      ],
      "text/latex": [
       "\\begin{tabular}{r|ccccc}\n",
       "\t& Nodo & PGEN & PLOAD & COSTO & NET\\_P\\\\\n",
       "\t\\hline\n",
       "\t& Int64 & Float64 & Float64 & Float64 & Float64\\\\\n",
       "\t\\hline\n",
       "\t1 & 1 & 100.0 & 50.0 & 10.0 & 50.0 \\\\\n",
       "\t2 & 2 & 150.0 & 60.0 & 15.0 & 90.0 \\\\\n",
       "\t3 & 3 & 200.0 & 70.0 & 20.0 & 130.0 \\\\\n",
       "\\end{tabular}\n"
      ],
      "text/plain": [
       "\u001b[1m3×5 DataFrame\u001b[0m\n",
       "\u001b[1m Row \u001b[0m│\u001b[1m Nodo  \u001b[0m\u001b[1m PGEN    \u001b[0m\u001b[1m PLOAD   \u001b[0m\u001b[1m COSTO   \u001b[0m\u001b[1m NET_P   \u001b[0m\n",
       "     │\u001b[90m Int64 \u001b[0m\u001b[90m Float64 \u001b[0m\u001b[90m Float64 \u001b[0m\u001b[90m Float64 \u001b[0m\u001b[90m Float64 \u001b[0m\n",
       "─────┼───────────────────────────────────────────\n",
       "   1 │     1    100.0     50.0     10.0     50.0\n",
       "   2 │     2    150.0     60.0     15.0     90.0\n",
       "   3 │     3    200.0     70.0     20.0    130.0"
      ]
     },
     "metadata": {},
     "output_type": "display_data"
    }
   ],
   "source": [
    "# Añade una columna NET_P que es PGEN - PLOAD\n",
    "df[!,:NET_P] = df.PGEN - df.PLOAD\n",
    "df"
   ]
  },
  {
   "cell_type": "markdown",
   "id": "a163ec5d",
   "metadata": {},
   "source": [
    "#### Modificar Datos\n",
    "\n",
    "* Modificar valores específicos:"
   ]
  },
  {
   "cell_type": "code",
   "execution_count": 4,
   "id": "6488c701",
   "metadata": {},
   "outputs": [
    {
     "data": {
      "text/html": [
       "<div><div style = \"float: left;\"><span>3×5 DataFrame</span></div><div style = \"clear: both;\"></div></div><div class = \"data-frame\" style = \"overflow-x: scroll;\"><table class = \"data-frame\" style = \"margin-bottom: 6px;\"><thead><tr class = \"header\"><th class = \"rowNumber\" style = \"font-weight: bold; text-align: right;\">Row</th><th style = \"text-align: left;\">Nodo</th><th style = \"text-align: left;\">PGEN</th><th style = \"text-align: left;\">PLOAD</th><th style = \"text-align: left;\">COSTO</th><th style = \"text-align: left;\">NET_P</th></tr><tr class = \"subheader headerLastRow\"><th class = \"rowNumber\" style = \"font-weight: bold; text-align: right;\"></th><th title = \"Int64\" style = \"text-align: left;\">Int64</th><th title = \"Float64\" style = \"text-align: left;\">Float64</th><th title = \"Float64\" style = \"text-align: left;\">Float64</th><th title = \"Float64\" style = \"text-align: left;\">Float64</th><th title = \"Float64\" style = \"text-align: left;\">Float64</th></tr></thead><tbody><tr><td class = \"rowNumber\" style = \"font-weight: bold; text-align: right;\">1</td><td style = \"text-align: right;\">1</td><td style = \"text-align: right;\">120.0</td><td style = \"text-align: right;\">50.0</td><td style = \"text-align: right;\">10.0</td><td style = \"text-align: right;\">50.0</td></tr><tr><td class = \"rowNumber\" style = \"font-weight: bold; text-align: right;\">2</td><td style = \"text-align: right;\">2</td><td style = \"text-align: right;\">150.0</td><td style = \"text-align: right;\">60.0</td><td style = \"text-align: right;\">15.0</td><td style = \"text-align: right;\">90.0</td></tr><tr><td class = \"rowNumber\" style = \"font-weight: bold; text-align: right;\">3</td><td style = \"text-align: right;\">3</td><td style = \"text-align: right;\">200.0</td><td style = \"text-align: right;\">70.0</td><td style = \"text-align: right;\">20.0</td><td style = \"text-align: right;\">130.0</td></tr></tbody></table></div>"
      ],
      "text/latex": [
       "\\begin{tabular}{r|ccccc}\n",
       "\t& Nodo & PGEN & PLOAD & COSTO & NET\\_P\\\\\n",
       "\t\\hline\n",
       "\t& Int64 & Float64 & Float64 & Float64 & Float64\\\\\n",
       "\t\\hline\n",
       "\t1 & 1 & 120.0 & 50.0 & 10.0 & 50.0 \\\\\n",
       "\t2 & 2 & 150.0 & 60.0 & 15.0 & 90.0 \\\\\n",
       "\t3 & 3 & 200.0 & 70.0 & 20.0 & 130.0 \\\\\n",
       "\\end{tabular}\n"
      ],
      "text/plain": [
       "\u001b[1m3×5 DataFrame\u001b[0m\n",
       "\u001b[1m Row \u001b[0m│\u001b[1m Nodo  \u001b[0m\u001b[1m PGEN    \u001b[0m\u001b[1m PLOAD   \u001b[0m\u001b[1m COSTO   \u001b[0m\u001b[1m NET_P   \u001b[0m\n",
       "     │\u001b[90m Int64 \u001b[0m\u001b[90m Float64 \u001b[0m\u001b[90m Float64 \u001b[0m\u001b[90m Float64 \u001b[0m\u001b[90m Float64 \u001b[0m\n",
       "─────┼───────────────────────────────────────────\n",
       "   1 │     1    120.0     50.0     10.0     50.0\n",
       "   2 │     2    150.0     60.0     15.0     90.0\n",
       "   3 │     3    200.0     70.0     20.0    130.0"
      ]
     },
     "metadata": {},
     "output_type": "display_data"
    }
   ],
   "source": [
    "# Cambia PGEN del nodo 1 a 120.0\n",
    "df[1, :PGEN] = 120.0\n",
    "df"
   ]
  },
  {
   "cell_type": "markdown",
   "id": "0fb8c350",
   "metadata": {},
   "source": [
    "#### Eliminar Columnas\n",
    "\n",
    "* Elimina columnas no necesarias:"
   ]
  },
  {
   "cell_type": "code",
   "execution_count": 5,
   "id": "ea43ca4c",
   "metadata": {},
   "outputs": [
    {
     "data": {
      "text/html": [
       "<div><div style = \"float: left;\"><span>3×4 DataFrame</span></div><div style = \"clear: both;\"></div></div><div class = \"data-frame\" style = \"overflow-x: scroll;\"><table class = \"data-frame\" style = \"margin-bottom: 6px;\"><thead><tr class = \"header\"><th class = \"rowNumber\" style = \"font-weight: bold; text-align: right;\">Row</th><th style = \"text-align: left;\">Nodo</th><th style = \"text-align: left;\">PGEN</th><th style = \"text-align: left;\">PLOAD</th><th style = \"text-align: left;\">NET_P</th></tr><tr class = \"subheader headerLastRow\"><th class = \"rowNumber\" style = \"font-weight: bold; text-align: right;\"></th><th title = \"Int64\" style = \"text-align: left;\">Int64</th><th title = \"Float64\" style = \"text-align: left;\">Float64</th><th title = \"Float64\" style = \"text-align: left;\">Float64</th><th title = \"Float64\" style = \"text-align: left;\">Float64</th></tr></thead><tbody><tr><td class = \"rowNumber\" style = \"font-weight: bold; text-align: right;\">1</td><td style = \"text-align: right;\">1</td><td style = \"text-align: right;\">120.0</td><td style = \"text-align: right;\">50.0</td><td style = \"text-align: right;\">50.0</td></tr><tr><td class = \"rowNumber\" style = \"font-weight: bold; text-align: right;\">2</td><td style = \"text-align: right;\">2</td><td style = \"text-align: right;\">150.0</td><td style = \"text-align: right;\">60.0</td><td style = \"text-align: right;\">90.0</td></tr><tr><td class = \"rowNumber\" style = \"font-weight: bold; text-align: right;\">3</td><td style = \"text-align: right;\">3</td><td style = \"text-align: right;\">200.0</td><td style = \"text-align: right;\">70.0</td><td style = \"text-align: right;\">130.0</td></tr></tbody></table></div>"
      ],
      "text/latex": [
       "\\begin{tabular}{r|cccc}\n",
       "\t& Nodo & PGEN & PLOAD & NET\\_P\\\\\n",
       "\t\\hline\n",
       "\t& Int64 & Float64 & Float64 & Float64\\\\\n",
       "\t\\hline\n",
       "\t1 & 1 & 120.0 & 50.0 & 50.0 \\\\\n",
       "\t2 & 2 & 150.0 & 60.0 & 90.0 \\\\\n",
       "\t3 & 3 & 200.0 & 70.0 & 130.0 \\\\\n",
       "\\end{tabular}\n"
      ],
      "text/plain": [
       "\u001b[1m3×4 DataFrame\u001b[0m\n",
       "\u001b[1m Row \u001b[0m│\u001b[1m Nodo  \u001b[0m\u001b[1m PGEN    \u001b[0m\u001b[1m PLOAD   \u001b[0m\u001b[1m NET_P   \u001b[0m\n",
       "     │\u001b[90m Int64 \u001b[0m\u001b[90m Float64 \u001b[0m\u001b[90m Float64 \u001b[0m\u001b[90m Float64 \u001b[0m\n",
       "─────┼──────────────────────────────────\n",
       "   1 │     1    120.0     50.0     50.0\n",
       "   2 │     2    150.0     60.0     90.0\n",
       "   3 │     3    200.0     70.0    130.0"
      ]
     },
     "metadata": {},
     "output_type": "display_data"
    }
   ],
   "source": [
    "# Elimina la columna COSTO si existe\n",
    "select!(df, Not(:COSTO))"
   ]
  },
  {
   "cell_type": "code",
   "execution_count": 6,
   "id": "c2d493dc",
   "metadata": {},
   "outputs": [
    {
     "data": {
      "text/html": [
       "<div><div style = \"float: left;\"><span>2×4 DataFrame</span></div><div style = \"clear: both;\"></div></div><div class = \"data-frame\" style = \"overflow-x: scroll;\"><table class = \"data-frame\" style = \"margin-bottom: 6px;\"><thead><tr class = \"header\"><th class = \"rowNumber\" style = \"font-weight: bold; text-align: right;\">Row</th><th style = \"text-align: left;\">Nodo</th><th style = \"text-align: left;\">PGEN</th><th style = \"text-align: left;\">PLOAD</th><th style = \"text-align: left;\">NET_P</th></tr><tr class = \"subheader headerLastRow\"><th class = \"rowNumber\" style = \"font-weight: bold; text-align: right;\"></th><th title = \"Int64\" style = \"text-align: left;\">Int64</th><th title = \"Float64\" style = \"text-align: left;\">Float64</th><th title = \"Float64\" style = \"text-align: left;\">Float64</th><th title = \"Float64\" style = \"text-align: left;\">Float64</th></tr></thead><tbody><tr><td class = \"rowNumber\" style = \"font-weight: bold; text-align: right;\">1</td><td style = \"text-align: right;\">1</td><td style = \"text-align: right;\">120.0</td><td style = \"text-align: right;\">50.0</td><td style = \"text-align: right;\">50.0</td></tr><tr><td class = \"rowNumber\" style = \"font-weight: bold; text-align: right;\">2</td><td style = \"text-align: right;\">3</td><td style = \"text-align: right;\">200.0</td><td style = \"text-align: right;\">70.0</td><td style = \"text-align: right;\">130.0</td></tr></tbody></table></div>"
      ],
      "text/latex": [
       "\\begin{tabular}{r|cccc}\n",
       "\t& Nodo & PGEN & PLOAD & NET\\_P\\\\\n",
       "\t\\hline\n",
       "\t& Int64 & Float64 & Float64 & Float64\\\\\n",
       "\t\\hline\n",
       "\t1 & 1 & 120.0 & 50.0 & 50.0 \\\\\n",
       "\t2 & 3 & 200.0 & 70.0 & 130.0 \\\\\n",
       "\\end{tabular}\n"
      ],
      "text/plain": [
       "\u001b[1m2×4 DataFrame\u001b[0m\n",
       "\u001b[1m Row \u001b[0m│\u001b[1m Nodo  \u001b[0m\u001b[1m PGEN    \u001b[0m\u001b[1m PLOAD   \u001b[0m\u001b[1m NET_P   \u001b[0m\n",
       "     │\u001b[90m Int64 \u001b[0m\u001b[90m Float64 \u001b[0m\u001b[90m Float64 \u001b[0m\u001b[90m Float64 \u001b[0m\n",
       "─────┼──────────────────────────────────\n",
       "   1 │     1    120.0     50.0     50.0\n",
       "   2 │     3    200.0     70.0    130.0"
      ]
     },
     "metadata": {},
     "output_type": "display_data"
    }
   ],
   "source": [
    "# Eliminar la fila 2 si existe\n",
    "delete!(df, 2)\n"
   ]
  }
 ],
 "metadata": {
  "kernelspec": {
   "display_name": "Julia 1.11.3",
   "language": "julia",
   "name": "julia-1.11"
  },
  "language_info": {
   "file_extension": ".jl",
   "mimetype": "application/julia",
   "name": "julia",
   "version": "1.11.3"
  }
 },
 "nbformat": 4,
 "nbformat_minor": 5
}
