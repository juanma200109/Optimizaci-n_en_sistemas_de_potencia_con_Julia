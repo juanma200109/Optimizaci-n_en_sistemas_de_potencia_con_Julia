{
 "cells": [
  {
   "cell_type": "markdown",
   "id": "bceec8b1",
   "metadata": {},
   "source": [
    "# **Módulo 2: Manipulación de Datos con DataFrames y CSV**\n",
    "\n",
    "**Objetivo**: Aprender a trabajar con datos estructurados utilizando DataFrames y CSV en Julia.\n",
    "\n",
    "---\n",
    "\n",
    "### 1. Introducción a DataFrames\n",
    "\n",
    "`DataFrames` es un paquete en Julia que permite manejar datos tabulares de manera eficiente, similar a las tablas en bases de datos o hojas de cálculo. Es esencial para trabajar con datos en sistemas de potencia, como información de nodos, líneas, generadores, etc.\n",
    "\n",
    "#### **Instalación de DataFrames y CSV**\n",
    "\n",
    "Si aún no los tienes instalados, ejecuta:\n",
    "\n",
    "~~~julia\n",
    "using Pkg\n",
    "Pkg.add(\"DataFrames\")\n",
    "Pkg.add(\"CSV\")\n",
    "~~~\n",
    "\n",
    "#### **Creación de un DataFrame**\n",
    "\n",
    "1. Manualmente:"
   ]
  },
  {
   "cell_type": "code",
   "execution_count": 2,
   "id": "cb40e66c",
   "metadata": {},
   "outputs": [
    {
     "data": {
      "text/html": [
       "<div><div style = \"float: left;\"><span>3×3 DataFrame</span></div><div style = \"clear: both;\"></div></div><div class = \"data-frame\" style = \"overflow-x: scroll;\"><table class = \"data-frame\" style = \"margin-bottom: 6px;\"><thead><tr class = \"header\"><th class = \"rowNumber\" style = \"font-weight: bold; text-align: right;\">Row</th><th style = \"text-align: left;\">Nodo</th><th style = \"text-align: left;\">PGEN</th><th style = \"text-align: left;\">PLOAD</th></tr><tr class = \"subheader headerLastRow\"><th class = \"rowNumber\" style = \"font-weight: bold; text-align: right;\"></th><th title = \"Int64\" style = \"text-align: left;\">Int64</th><th title = \"Float64\" style = \"text-align: left;\">Float64</th><th title = \"Float64\" style = \"text-align: left;\">Float64</th></tr></thead><tbody><tr><td class = \"rowNumber\" style = \"font-weight: bold; text-align: right;\">1</td><td style = \"text-align: right;\">1</td><td style = \"text-align: right;\">100.0</td><td style = \"text-align: right;\">50.0</td></tr><tr><td class = \"rowNumber\" style = \"font-weight: bold; text-align: right;\">2</td><td style = \"text-align: right;\">2</td><td style = \"text-align: right;\">150.0</td><td style = \"text-align: right;\">60.0</td></tr><tr><td class = \"rowNumber\" style = \"font-weight: bold; text-align: right;\">3</td><td style = \"text-align: right;\">3</td><td style = \"text-align: right;\">200.0</td><td style = \"text-align: right;\">70.0</td></tr></tbody></table></div>"
      ],
      "text/latex": [
       "\\begin{tabular}{r|ccc}\n",
       "\t& Nodo & PGEN & PLOAD\\\\\n",
       "\t\\hline\n",
       "\t& Int64 & Float64 & Float64\\\\\n",
       "\t\\hline\n",
       "\t1 & 1 & 100.0 & 50.0 \\\\\n",
       "\t2 & 2 & 150.0 & 60.0 \\\\\n",
       "\t3 & 3 & 200.0 & 70.0 \\\\\n",
       "\\end{tabular}\n"
      ],
      "text/plain": [
       "\u001b[1m3×3 DataFrame\u001b[0m\n",
       "\u001b[1m Row \u001b[0m│\u001b[1m Nodo  \u001b[0m\u001b[1m PGEN    \u001b[0m\u001b[1m PLOAD   \u001b[0m\n",
       "     │\u001b[90m Int64 \u001b[0m\u001b[90m Float64 \u001b[0m\u001b[90m Float64 \u001b[0m\n",
       "─────┼─────────────────────────\n",
       "   1 │     1    100.0     50.0\n",
       "   2 │     2    150.0     60.0\n",
       "   3 │     3    200.0     70.0"
      ]
     },
     "metadata": {},
     "output_type": "display_data"
    }
   ],
   "source": [
    "using DataFrames\n",
    "# El contenido de los DataFrame son series de datos (como vectores o matrices) que pueden ser manipuladas y analizadas fácilmente.\n",
    "df = DataFrame(Nodo = [1, 2, 3], PGEN = [100.0, 150.0, 200.0], PLOAD = [50.0, 60.0, 70.0])"
   ]
  },
  {
   "cell_type": "markdown",
   "id": "8f5beca3",
   "metadata": {},
   "source": [
    "#### **Acceso a Datos**\n",
    "\n",
    "* Por columnas:"
   ]
  },
  {
   "cell_type": "code",
   "execution_count": 3,
   "id": "d5898af3",
   "metadata": {},
   "outputs": [
    {
     "data": {
      "text/plain": [
       "3-element Vector{Float64}:\n",
       " 100.0\n",
       " 150.0\n",
       " 200.0"
      ]
     },
     "metadata": {},
     "output_type": "display_data"
    }
   ],
   "source": [
    "df.PGEN  # Devuelve la columna PGEN"
   ]
  },
  {
   "cell_type": "markdown",
   "id": "d47206a8",
   "metadata": {},
   "source": [
    "* Por filas:"
   ]
  },
  {
   "cell_type": "code",
   "execution_count": 4,
   "id": "7feb4beb",
   "metadata": {},
   "outputs": [
    {
     "data": {
      "text/html": [
       "<div><div style = \"float: left;\"><span>DataFrameRow (3 columns)</span></div><div style = \"clear: both;\"></div></div><div class = \"data-frame\" style = \"overflow-x: scroll;\"><table class = \"data-frame\" style = \"margin-bottom: 6px;\"><thead><tr class = \"header\"><th class = \"rowLabel\" style = \"font-weight: bold; text-align: right;\">Row</th><th style = \"text-align: left;\">Nodo</th><th style = \"text-align: left;\">PGEN</th><th style = \"text-align: left;\">PLOAD</th></tr><tr class = \"subheader headerLastRow\"><th class = \"rowLabel\" style = \"font-weight: bold; text-align: right;\"></th><th title = \"Int64\" style = \"text-align: left;\">Int64</th><th title = \"Float64\" style = \"text-align: left;\">Float64</th><th title = \"Float64\" style = \"text-align: left;\">Float64</th></tr></thead><tbody><tr><td class = \"rowLabel\" style = \"font-weight: bold; text-align: right;\">1</td><td style = \"text-align: right;\">1</td><td style = \"text-align: right;\">100.0</td><td style = \"text-align: right;\">50.0</td></tr></tbody></table></div>"
      ],
      "text/latex": [
       "\\begin{tabular}{r|ccc}\n",
       "\t& Nodo & PGEN & PLOAD\\\\\n",
       "\t\\hline\n",
       "\t& Int64 & Float64 & Float64\\\\\n",
       "\t\\hline\n",
       "\t1 & 1 & 100.0 & 50.0 \\\\\n",
       "\\end{tabular}\n"
      ],
      "text/plain": [
       "\u001b[1mDataFrameRow\u001b[0m\n",
       "\u001b[1m Row \u001b[0m│\u001b[1m Nodo  \u001b[0m\u001b[1m PGEN    \u001b[0m\u001b[1m PLOAD   \u001b[0m\n",
       "     │\u001b[90m Int64 \u001b[0m\u001b[90m Float64 \u001b[0m\u001b[90m Float64 \u001b[0m\n",
       "─────┼─────────────────────────\n",
       "   1 │     1    100.0     50.0"
      ]
     },
     "metadata": {},
     "output_type": "display_data"
    }
   ],
   "source": [
    "df[1, :]  # Primera fila"
   ]
  },
  {
   "cell_type": "markdown",
   "id": "241fe5b1",
   "metadata": {},
   "source": [
    "* Por celdas específicas:"
   ]
  },
  {
   "cell_type": "code",
   "execution_count": 5,
   "id": "cfa9c487",
   "metadata": {},
   "outputs": [
    {
     "data": {
      "text/plain": [
       "100.0"
      ]
     },
     "metadata": {},
     "output_type": "display_data"
    }
   ],
   "source": [
    "df[1, :PGEN]  # Valor de PGEN en la primera fila"
   ]
  }
 ],
 "metadata": {
  "kernelspec": {
   "display_name": "Julia 1.11.3",
   "language": "julia",
   "name": "julia-1.11"
  },
  "language_info": {
   "file_extension": ".jl",
   "mimetype": "application/julia",
   "name": "julia",
   "version": "1.11.3"
  }
 },
 "nbformat": 4,
 "nbformat_minor": 5
}
