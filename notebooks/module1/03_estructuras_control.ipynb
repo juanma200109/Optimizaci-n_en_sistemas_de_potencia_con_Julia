{
 "cells": [
  {
   "cell_type": "markdown",
   "id": "58d1aec3",
   "metadata": {},
   "source": [
    "### 3. **Estructuras de Control**\n",
    "\n",
    "Las estructuras de control dirigen el flujo de tu programa.\n",
    "\n",
    "#### Condicionales\n",
    "\n",
    "* **if-else**: Ejecuta código basado en una condición."
   ]
  },
  {
   "cell_type": "code",
   "execution_count": 1,
   "id": "f0a5d975",
   "metadata": {},
   "outputs": [
    {
     "name": "stdout",
     "output_type": "stream",
     "text": [
      "Positivo\n"
     ]
    }
   ],
   "source": [
    "x = 10\n",
    "if x > 0\n",
    "    println(\"Positivo\")\n",
    "else\n",
    "    println(\"Negativo o cero\")\n",
    "end"
   ]
  },
  {
   "cell_type": "markdown",
   "id": "cceb9e49",
   "metadata": {},
   "source": [
    "#### Bucles:\n",
    "\n",
    "* **for**: Itera sobre una secuencia."
   ]
  },
  {
   "cell_type": "code",
   "execution_count": 2,
   "id": "fea3f642",
   "metadata": {},
   "outputs": [
    {
     "name": "stdout",
     "output_type": "stream",
     "text": [
      "1\n",
      "2\n",
      "3\n",
      "4\n",
      "5\n"
     ]
    }
   ],
   "source": [
    "for i in 1:5\n",
    "    println(i)\n",
    "end"
   ]
  },
  {
   "cell_type": "markdown",
   "id": "1f0f33f1",
   "metadata": {},
   "source": [
    "* **while**: Se ejecuta mientras una condición sea verdadera."
   ]
  },
  {
   "cell_type": "code",
   "execution_count": 3,
   "id": "0c715818",
   "metadata": {},
   "outputs": [
    {
     "name": "stdout",
     "output_type": "stream",
     "text": [
      "0\n",
      "1\n",
      "2\n",
      "3\n",
      "4\n"
     ]
    }
   ],
   "source": [
    "contador = 0\n",
    "while contador < 5\n",
    "    println(contador)\n",
    "    contador += 1\n",
    "end"
   ]
  }
 ],
 "metadata": {
  "kernelspec": {
   "display_name": "Julia 1.11.3",
   "language": "julia",
   "name": "julia-1.11"
  },
  "language_info": {
   "file_extension": ".jl",
   "mimetype": "application/julia",
   "name": "julia",
   "version": "1.11.3"
  }
 },
 "nbformat": 4,
 "nbformat_minor": 5
}
