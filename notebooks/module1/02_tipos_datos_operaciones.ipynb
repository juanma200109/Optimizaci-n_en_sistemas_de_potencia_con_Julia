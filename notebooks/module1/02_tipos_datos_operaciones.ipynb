{
 "cells": [
  {
   "cell_type": "markdown",
   "id": "d5851eb2",
   "metadata": {},
   "source": [
    "### 2. **Tipos de Datos y Operaciones**\n",
    "\n",
    "\n",
    "\n",
    "En Julia, las variables no requieren declarar un tipo específico, pero entender los tipos es clave para un uso eficiente.\n",
    "\n",
    "**Tipos de Datos Básicos**\n",
    "* Enteros: 1, 2, -3\n",
    "* Flotantes: 1.0, 2.5, -3.14\n",
    "* Cadenas: \"Hola\", \"Julia\"\n",
    "* Booleanos: true, false\n",
    "\n",
    "**Operaciones Básicas**\n",
    "* Aritméticas: +, -, *, /, ^ (potencia)\n",
    "* Comparación: ==, !=, <, >, <=, >=\n",
    "* Lógicas: && (and), || (or), ! (not)\n",
    "\n",
    "#### Ejemplo de uso:"
   ]
  },
  {
   "cell_type": "code",
   "execution_count": 1,
   "id": "bae2cfb5",
   "metadata": {},
   "outputs": [
    {
     "name": "stdout",
     "output_type": "stream",
     "text": [
      "Este es el valor de la variable a: 5\n",
      "Este es el valor de la variable b: 2.0\n",
      "Este es el resultado de a + b: 7.0\n",
      "Este es el resultado de a ^ 2: 25\n"
     ]
    },
    {
     "data": {
      "text/plain": [
       "\"Hola Julia\""
      ]
     },
     "metadata": {},
     "output_type": "display_data"
    }
   ],
   "source": [
    "a = 5\n",
    "println(\"Este es el valor de la variable a: $a\")  # 5\n",
    "b = 2.0\n",
    "println(\"Este es el valor de la variable b: $b\")  # 2.0\n",
    "c = a + b  # 7.0\n",
    "println(\"Este es el resultado de a + b: $c\")  # 7.0\n",
    "d = a ^ 2  # 25\n",
    "println(\"Este es el resultado de a ^ 2: $d\")  # 25\n",
    "e = \"Hola\" * \" Julia\"  # \"Hola Julia\" (contatenación de cadenas)"
   ]
  }
 ],
 "metadata": {
  "kernelspec": {
   "display_name": "Julia 1.11.3",
   "language": "julia",
   "name": "julia-1.11"
  },
  "language_info": {
   "file_extension": ".jl",
   "mimetype": "application/julia",
   "name": "julia",
   "version": "1.11.3"
  }
 },
 "nbformat": 4,
 "nbformat_minor": 5
}
