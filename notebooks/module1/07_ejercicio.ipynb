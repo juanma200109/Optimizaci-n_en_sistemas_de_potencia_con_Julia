{
 "cells": [
  {
   "cell_type": "markdown",
   "id": "a5155c84",
   "metadata": {},
   "source": [
    "#### **Ejercicio Práctico**\n",
    "**Objetivo**: Reforzar los conceptos aprendidos.\n",
    "\n",
    "**Tarea**:\n",
    "\n",
    "1. Crea un vector que represente las potencias generadas en 3 nodos: 100 MW, 150 MW, 200 MW.\n",
    "2. Crea una matriz 2x2 que represente las admitancias entre dos líneas.\n",
    "3. Escribe una función que calcule la suma de las potencias generadas.\n",
    "4. Usa un bucle for para imprimir cada valor del vector de potencias."
   ]
  },
  {
   "cell_type": "markdown",
   "id": "84ae2665",
   "metadata": {},
   "source": [
    "### **Solución**"
   ]
  },
  {
   "cell_type": "code",
   "execution_count": 4,
   "id": "75f10cf2",
   "metadata": {},
   "outputs": [
    {
     "name": "stdout",
     "output_type": "stream",
     "text": [
      "Suma de potencias generadas: 450.0\n",
      "Potencia del generador 1: 100.0\n",
      "Potencia del generador 2: 150.0\n",
      "Potencia del generador 3: 200.0\n"
     ]
    }
   ],
   "source": [
    "# 1. Vector de potencias generadas\n",
    "vec = [100.0, 150.0, 200.0]\n",
    "\n",
    "# 2. Matriz de admitancias entre 2 líneas\n",
    "mat = [0.1 0.2; 0.2 0.3]\n",
    "\n",
    "# 3. Función que calcula la suma de las potencias generadas\n",
    "function suma_potencias(vec::Vector{Float64})\n",
    "    return sum(vec)\n",
    "end\n",
    "println(\"Suma de potencias generadas: \", suma_potencias(vec))\n",
    "\n",
    "# 4. Blucle for que imprime los elementos del vector de potencias generadas\n",
    "for i in 1:length(vec)\n",
    "    println(\"Potencia del generador \", i, \": \", vec[i])\n",
    "end"
   ]
  }
 ],
 "metadata": {
  "kernelspec": {
   "display_name": "Julia 1.11.3",
   "language": "julia",
   "name": "julia-1.11"
  },
  "language_info": {
   "file_extension": ".jl",
   "mimetype": "application/julia",
   "name": "julia",
   "version": "1.11.3"
  }
 },
 "nbformat": 4,
 "nbformat_minor": 5
}
