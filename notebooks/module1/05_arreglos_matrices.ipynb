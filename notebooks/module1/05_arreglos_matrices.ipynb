{
 "cells": [
  {
   "cell_type": "markdown",
   "id": "414ef8df",
   "metadata": {},
   "source": [
    "### 5. **Arreglos y Matrices**\n",
    "\n",
    "Los arreglos son esenciales para manejar datos, especialmente en sistemas de potencia donde se usan vectores y matrices."
   ]
  },
  {
   "cell_type": "markdown",
   "id": "64f78cfe",
   "metadata": {},
   "source": [
    "#### **Arreglos Unidimensionales (Vectores)**\n",
    "\n",
    "* Creación:"
   ]
  },
  {
   "cell_type": "code",
   "execution_count": 14,
   "id": "ab71a0d4",
   "metadata": {},
   "outputs": [
    {
     "data": {
      "text/plain": [
       "5-element Vector{Int64}:\n",
       " 4\n",
       " 2\n",
       " 7\n",
       " 4\n",
       " 5"
      ]
     },
     "metadata": {},
     "output_type": "display_data"
    }
   ],
   "source": [
    "vec = [4,2,7,4,5]\n",
    "vec"
   ]
  },
  {
   "cell_type": "markdown",
   "id": "b9911bdf",
   "metadata": {},
   "source": [
    "* Acceso:"
   ]
  },
  {
   "cell_type": "code",
   "execution_count": 15,
   "id": "5ec93516",
   "metadata": {},
   "outputs": [
    {
     "data": {
      "text/plain": [
       "4"
      ]
     },
     "metadata": {},
     "output_type": "display_data"
    }
   ],
   "source": [
    "# Accediendo a la posición 1 del vector (ten en cuenta que Julia empieza a contar desde 1)\n",
    "vec[1]"
   ]
  },
  {
   "cell_type": "markdown",
   "id": "fb80b6c4",
   "metadata": {},
   "source": [
    "#### **Arreglos Multidimencionales (Matrices)**\n",
    "\n",
    "* Creación:"
   ]
  },
  {
   "cell_type": "code",
   "execution_count": 16,
   "id": "6b531c66",
   "metadata": {},
   "outputs": [
    {
     "data": {
      "text/plain": [
       "3×3 Matrix{Int64}:\n",
       " 1  2  3\n",
       " 4  5  6\n",
       " 7  8  9"
      ]
     },
     "metadata": {},
     "output_type": "display_data"
    }
   ],
   "source": [
    "mat = [1 2 3; 4 5 6; 7 8 9]\n",
    "mat"
   ]
  },
  {
   "cell_type": "markdown",
   "id": "2f1a49fc",
   "metadata": {},
   "source": [
    "* Acceso:"
   ]
  },
  {
   "cell_type": "code",
   "execution_count": 17,
   "id": "a94c4229",
   "metadata": {},
   "outputs": [
    {
     "name": "stdout",
     "output_type": "stream",
     "text": [
      "Accediendo a la posición (1,2) de la matriz 2\n",
      "Accediendo a la primer fila de la matriz [1, 2, 3]\n",
      "Accediendo a la segunda columna de la matriz [2, 5, 8]\n"
     ]
    }
   ],
   "source": [
    "\n",
    "println(\"Accediendo a la posición (1,2) de la matriz $(mat[1, 2])\") # Accediendo a la posición (1,2) de la matriz\n",
    "println(\"Accediendo a la primer fila de la matriz $(mat[1, :])\") # Accediendo a la primera fila de la matriz\n",
    "println(\"Accediendo a la segunda columna de la matriz $(mat[:, 2])\") # Accediendo a la segunda columna de la matriz\n",
    "\n",
    "# Nota: En Julia, las matrices son indexadas por filas y columnas, y se utilizan dos puntos (:) para indicar todas las filas o columnas."
   ]
  },
  {
   "cell_type": "markdown",
   "id": "5be91fcc",
   "metadata": {},
   "source": [
    "#### **Operaciones**\n",
    "\n",
    "* Suma, resta, multiplicación:"
   ]
  },
  {
   "cell_type": "code",
   "execution_count": 18,
   "id": "e78319a7",
   "metadata": {},
   "outputs": [
    {
     "name": "stdout",
     "output_type": "stream",
     "text": [
      "Suma entre matrices: [2 4 6; 8 10 12; 14 16 18]\n",
      "Resta entre matrices: [0 0 0; 0 0 0; 0 0 0]\n",
      "Multiplicación entre matrices: [30 36 42; 66 81 96; 102 126 150]\n",
      "Producto de Hadamard entre matrices: [1 4 9; 16 25 36; 49 64 81]\n"
     ]
    }
   ],
   "source": [
    "println(\"Suma entre matrices: $(mat + mat)\") # Suma entre matrices\n",
    "println(\"Resta entre matrices: $(mat - mat)\") # Resta entre matrices\n",
    "println(\"Multiplicación entre matrices: $(mat * mat)\") # Multiplicación entre matrices\n",
    "println(\"Producto de Hadamard entre matrices: $(mat .* mat)\") # Producto de Hadamard entre matrices"
   ]
  },
  {
   "cell_type": "markdown",
   "id": "e5803fcd",
   "metadata": {},
   "source": [
    "* Inversa"
   ]
  },
  {
   "cell_type": "code",
   "execution_count": 21,
   "id": "6ce9f5d3",
   "metadata": {},
   "outputs": [
    {
     "name": "stdout",
     "output_type": "stream",
     "text": [
      "Inversa de la matriz: [0.5 -0.0 0.5; 0.0 0.5 -0.0; -0.5 0.0 0.5]\n"
     ]
    }
   ],
   "source": [
    "mat = [1 0 -1; 0 2 0; 1 0 1]\n",
    "println(\"Inversa de la matriz: $(inv(mat))\") # Inversa de la matriz"
   ]
  }
 ],
 "metadata": {
  "kernelspec": {
   "display_name": "Julia 1.11.3",
   "language": "julia",
   "name": "julia-1.11"
  },
  "language_info": {
   "file_extension": ".jl",
   "mimetype": "application/julia",
   "name": "julia",
   "version": "1.11.3"
  }
 },
 "nbformat": 4,
 "nbformat_minor": 5
}
