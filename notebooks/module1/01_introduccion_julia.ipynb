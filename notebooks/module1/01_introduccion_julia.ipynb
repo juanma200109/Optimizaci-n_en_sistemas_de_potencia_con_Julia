{
 "cells": [
  {
   "cell_type": "markdown",
   "id": "e1e1c1b9",
   "metadata": {},
   "source": [
    "# **Módulo 1: Fundamentos de Julia**\n",
    "\n",
    "**Objetivo**: Dominar los conceptos básicos de Julia y su entorno de trabajo.\n",
    "\n",
    "---\n",
    "\n",
    "### 1. **Introducción a Julia**\n",
    "Julia es un lenguaje de programación de alto rendimiento diseñado para la computación científica y numérica. Es ideal para aplicaciones en ingeniería, como el modelado de sistemas de potencia, debido a su velocidad y facilidad para manejar operaciones matemáticas complejas.\n",
    "\n",
    "---\n",
    "\n",
    "#### Instalación de Julia\n",
    "\n",
    "* **Paso 1**: Descarga Julia desde [julialang.org](https://julialang.org/)\n",
    "* **Paso 2**: Instala la versión adecuada para tu sistema operativo (Windows, macOS, Linux). \n",
    "* **Paso 3**: Verifica la instalación abriendo una terminal y escribiendo `julia`. Deberías ver el REPL (Read-Eval-Print Loop) de Julia.\n",
    "\n",
    "#### Entorno de Trabajo\n",
    "\n",
    "* **REPL**: Es la interfaz interactiva de Julia. Aquí puedes ejecutar comandos línea por línea.\n",
    "* **Jupyter Notebooks**: Para un entorno más visual, puedes usar Jupyter con Julia. Instala el paquete `IJulia` ejecutando:"
   ]
  },
  {
   "cell_type": "code",
   "execution_count": 1,
   "id": "14092e4b",
   "metadata": {},
   "outputs": [
    {
     "name": "stderr",
     "output_type": "stream",
     "text": [
      "\u001b[32m\u001b[1m   Resolving\u001b[22m\u001b[39m package versions...\n",
      "\u001b[32m\u001b[1m   Installed\u001b[22m\u001b[39m libsodium_jll ─── v1.0.21+0\n",
      "\u001b[32m\u001b[1m   Installed\u001b[22m\u001b[39m VersionParsing ── v1.3.0\n",
      "\u001b[32m\u001b[1m   Installed\u001b[22m\u001b[39m ZMQ ───────────── v1.4.0\n",
      "\u001b[32m\u001b[1m   Installed\u001b[22m\u001b[39m ZeroMQ_jll ────── v4.3.6+0\n",
      "\u001b[32m\u001b[1m   Installed\u001b[22m\u001b[39m IJulia ────────── v1.27.0\n",
      "\u001b[32m\u001b[1m   Installed\u001b[22m\u001b[39m SoftGlobalScope ─ v1.1.0\n",
      "\u001b[32m\u001b[1m   Installed\u001b[22m\u001b[39m Conda ─────────── v1.10.2\n",
      "\u001b[32m\u001b[1m    Updating\u001b[22m\u001b[39m `C:\\Users\\PC\\.julia\\environments\\v1.11\\Project.toml`\n",
      "  \u001b[90m[7073ff75] \u001b[39m\u001b[92m+ IJulia v1.27.0\u001b[39m\n",
      "\u001b[32m\u001b[1m    Updating\u001b[22m\u001b[39m `C:\\Users\\PC\\.julia\\environments\\v1.11\\Manifest.toml`\n",
      "  \u001b[90m[8f4d0f93] \u001b[39m\u001b[92m+ Conda v1.10.2\u001b[39m\n",
      "  \u001b[90m[7073ff75] \u001b[39m\u001b[92m+ IJulia v1.27.0\u001b[39m\n",
      "  \u001b[90m[b85f4697] \u001b[39m\u001b[92m+ SoftGlobalScope v1.1.0\u001b[39m\n",
      "  \u001b[90m[81def892] \u001b[39m\u001b[92m+ VersionParsing v1.3.0\u001b[39m\n",
      "  \u001b[90m[c2297ded] \u001b[39m\u001b[92m+ ZMQ v1.4.0\u001b[39m\n",
      "  \u001b[90m[8f1865be] \u001b[39m\u001b[92m+ ZeroMQ_jll v4.3.6+0\u001b[39m\n",
      "  \u001b[90m[a9144af2] \u001b[39m\u001b[92m+ libsodium_jll v1.0.21+0\u001b[39m\n",
      "\u001b[32m\u001b[1m    Building\u001b[22m\u001b[39m Conda ─→ `C:\\Users\\PC\\.julia\\scratchspaces\\44cfe95a-1eb2-52ea-b672-e2afdf69b78f\\b19db3927f0db4151cb86d073689f2428e524576\\build.log`\n",
      "\u001b[32m\u001b[1m    Building\u001b[22m\u001b[39m IJulia → `C:\\Users\\PC\\.julia\\scratchspaces\\44cfe95a-1eb2-52ea-b672-e2afdf69b78f\\be30be76e25b0aff2c9a85930ed3ac34c5f10c83\\build.log`\n",
      "\u001b[92m\u001b[1mPrecompiling\u001b[22m\u001b[39m project...\n",
      "   2058.4 ms\u001b[32m  ✓ \u001b[39m\u001b[90mVersionParsing\u001b[39m\n",
      "   1877.3 ms\u001b[32m  ✓ \u001b[39m\u001b[90mlibsodium_jll\u001b[39m\n",
      "   1668.7 ms\u001b[32m  ✓ \u001b[39m\u001b[90mSoftGlobalScope\u001b[39m\n",
      "    845.4 ms\u001b[32m  ✓ \u001b[39m\u001b[90mZeroMQ_jll\u001b[39m\n",
      "   1114.9 ms\u001b[32m  ✓ \u001b[39m\u001b[90mConda\u001b[39m\n",
      "   2809.5 ms\u001b[32m  ✓ \u001b[39m\u001b[90mZMQ\u001b[39m\n",
      "   4551.6 ms\u001b[32m  ✓ \u001b[39mIJulia\n",
      "   4458.0 ms\u001b[32m  ✓ \u001b[39mPlots → IJuliaExt\n",
      "  8 dependencies successfully precompiled in 17 seconds. 297 already precompiled.\n"
     ]
    }
   ],
   "source": [
    "using Pkg; Pkg.add(\"IJulia\")"
   ]
  },
  {
   "cell_type": "markdown",
   "id": "853cc09c",
   "metadata": {},
   "source": [
    "#### Ejemplo de uso:"
   ]
  },
  {
   "cell_type": "code",
   "execution_count": 2,
   "id": "33c71e67",
   "metadata": {},
   "outputs": [
    {
     "name": "stdout",
     "output_type": "stream",
     "text": [
      "¡Hola, Julia!\n"
     ]
    }
   ],
   "source": [
    "println(\"¡Hola, Julia!\")"
   ]
  }
 ],
 "metadata": {
  "kernelspec": {
   "display_name": "Julia 1.11.3",
   "language": "julia",
   "name": "julia-1.11"
  },
  "language_info": {
   "file_extension": ".jl",
   "mimetype": "application/julia",
   "name": "julia",
   "version": "1.11.3"
  }
 },
 "nbformat": 4,
 "nbformat_minor": 5
}
