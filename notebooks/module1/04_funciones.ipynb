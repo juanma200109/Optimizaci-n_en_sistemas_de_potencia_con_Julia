{
 "cells": [
  {
   "cell_type": "markdown",
   "id": "c8852c71",
   "metadata": {},
   "source": [
    "### 4. **Funciones**\n",
    "\n",
    "Las funciones son bloques de código reutilizables que realizan tareas específicas.\n",
    "\n",
    "#### **Definición de Funciones**\n",
    "\n",
    "* Sintaxis básica:"
   ]
  },
  {
   "cell_type": "code",
   "execution_count": 5,
   "id": "d94131a5",
   "metadata": {},
   "outputs": [
    {
     "name": "stdout",
     "output_type": "stream",
     "text": [
      "El resultado es: 15\n"
     ]
    }
   ],
   "source": [
    "function nombre_funcion(arg1, arg2)\n",
    "    return arg1 + arg2\n",
    "end\n",
    "\n",
    "# Llamar a la función\n",
    "resultado = nombre_funcion(5, 10)\n",
    "println(\"El resultado es: \", resultado)"
   ]
  },
  {
   "cell_type": "markdown",
   "id": "f4938343",
   "metadata": {},
   "source": [
    "* Funciones anónimas: Útiles para operaciones rápidas."
   ]
  },
  {
   "cell_type": "code",
   "execution_count": 6,
   "id": "4edc946d",
   "metadata": {},
   "outputs": [
    {
     "name": "stdout",
     "output_type": "stream",
     "text": [
      "La suma es: 15\n"
     ]
    }
   ],
   "source": [
    "suma = (x, y) -> x + y\n",
    "println(\"La suma es: \", suma(5, 10))"
   ]
  },
  {
   "cell_type": "markdown",
   "id": "2c7b32b0",
   "metadata": {},
   "source": [
    "#### **Argumentos**\n",
    "\n",
    "* Posicionales: Se pasan en orden.\n",
    "* Por palabra clave: Se especifican con nombres (En Julia, los argumentos que van después de ; en una función deben pasarse nombrados)."
   ]
  },
  {
   "cell_type": "code",
   "execution_count": 11,
   "id": "693be09e",
   "metadata": {},
   "outputs": [
    {
     "name": "stdout",
     "output_type": "stream",
     "text": [
      "La potencia es: 4\n",
      "La potencia es: 8\n",
      "La potencia es: 2.0\n"
     ]
    }
   ],
   "source": [
    "function potencia(base; exponente=2)\n",
    "    return base^exponente\n",
    "end\n",
    "potencia(2) # Llama a la función con el valor por defecto de exponente\n",
    "println(\"La potencia es: \", potencia(2)) # Llama a la función con el valor por defecto de exponente\n",
    "println(\"La potencia es: \", potencia(2, exponente=3)) # Llama a la función con un valor específico de exponente\n",
    "println(\"La potencia es: \", potencia(4, exponente=0.5)) # Llama a la función con un valor específico de exponente"
   ]
  },
  {
   "cell_type": "markdown",
   "id": "dde1b66c",
   "metadata": {},
   "source": [
    "Ejemplo:"
   ]
  },
  {
   "cell_type": "code",
   "execution_count": 12,
   "id": "f5168382",
   "metadata": {},
   "outputs": [
    {
     "name": "stdout",
     "output_type": "stream",
     "text": [
      "La corriente es: 4.545454545454546\n"
     ]
    }
   ],
   "source": [
    "function calcular_corriente(S, V)\n",
    "    return S / V\n",
    "end\n",
    "println(\"La corriente es: \", calcular_corriente(1000, 220)) # Llama a la función con valores específicos de S y V"
   ]
  }
 ],
 "metadata": {
  "kernelspec": {
   "display_name": "Julia 1.11.3",
   "language": "julia",
   "name": "julia-1.11"
  },
  "language_info": {
   "file_extension": ".jl",
   "mimetype": "application/julia",
   "name": "julia",
   "version": "1.11.3"
  }
 },
 "nbformat": 4,
 "nbformat_minor": 5
}
