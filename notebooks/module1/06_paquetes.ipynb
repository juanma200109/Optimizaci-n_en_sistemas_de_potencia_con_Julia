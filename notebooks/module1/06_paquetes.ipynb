{
 "cells": [
  {
   "cell_type": "markdown",
   "id": "5c84fd43",
   "metadata": {},
   "source": [
    "### 6. **Paquetes**\n",
    "Julia tiene un ecosistema rico en paquetes que extienden su funcionalidad.\n",
    "\n",
    "#### **Instalación de Paquetes**\n",
    "\n",
    "~~~julia\n",
    "using Pkg\n",
    "Pkg.add(\"NombreDelPaquete\")\n",
    "~~~\n",
    "\n",
    "#### **Importación de Paquetes**\n",
    "\n",
    "* Para usar un paquete:\n",
    "\n",
    "~~~julia\n",
    "using NombreDelPaquete\n",
    "~~~\n",
    "\n",
    "#### **Paquetes Relevantes**\n",
    "\n",
    "* `LinearAlgebra`: Operaciones matriciales avanzadas.\n",
    "* `Plots`: Visualización de datos.\n",
    "* `DataFrames` y `CSV`: Manipulación de datos.\n",
    "* `JuMP`: Modelado de optimización.\n",
    "* `HiGHS` e `Ipopt`: Solvers para optimización."
   ]
  }
 ],
 "metadata": {
  "language_info": {
   "name": "python"
  }
 },
 "nbformat": 4,
 "nbformat_minor": 5
}
